{
 "cells": [
  {
   "cell_type": "markdown",
   "id": "devoted-amplifier",
   "metadata": {},
   "source": [
    "# Model training"
   ]
  },
  {
   "cell_type": "markdown",
   "id": "delayed-brazil",
   "metadata": {},
   "source": [
    "Libraries"
   ]
  },
  {
   "cell_type": "code",
   "execution_count": 1,
   "id": "mysterious-theme",
   "metadata": {},
   "outputs": [],
   "source": [
    "import cv2 as cv\n",
    "import numpy as np\n",
    "import pandas as pd\n",
    "import os\n",
    "\n",
    "import tensorflow as tf\n",
    "from tensorflow import keras\n",
    "from tensorflow.keras.preprocessing import image as im\n",
    "from tensorflow.keras.applications.imagenet_utils import preprocess_input\n",
    "from tensorflow.keras.applications.vgg19 import VGG19\n",
    "from tensorflow.keras.models import Sequential, Model\n",
    "import pickle\n",
    "\n",
    "from keras import backend as K\n",
    "from tensorflow.keras.optimizers import SGD, Adam, Adagrad, RMSprop\n",
    "import matplotlib.pyplot as plt\n",
    "import pandas as pd\n",
    "import numpy\n",
    "import time\n",
    "from tensorflow.keras.models import load_model\n",
    "from sklearn.metrics import confusion_matrix, classification_report"
   ]
  },
  {
   "cell_type": "code",
   "execution_count": 2,
   "id": "clinical-wisdom",
   "metadata": {},
   "outputs": [],
   "source": [
    "data_dir = \"base\"\n",
    "batch_size = 16"
   ]
  },
  {
   "cell_type": "code",
   "execution_count": 32,
   "id": "obvious-secretariat",
   "metadata": {},
   "outputs": [
    {
     "name": "stdout",
     "output_type": "stream",
     "text": [
      "Found 956 images belonging to 12 classes.\n",
      "Found 100 images belonging to 12 classes.\n"
     ]
    }
   ],
   "source": [
    "train_datagen = im.ImageDataGenerator(\n",
    "    preprocessing_function=preprocess_input,\n",
    "    shear_range=0.2,\n",
    "    zoom_range=0.2,\n",
    "    horizontal_flip=True,\n",
    "    validation_split=0.1)\n",
    "\n",
    "train_generator = train_datagen.flow_from_directory(\n",
    "    data_dir,\n",
    "    batch_size=batch_size,\n",
    "    class_mode='categorical',\n",
    "    subset='training') # set as training data\n",
    "\n",
    "validation_generator = train_datagen.flow_from_directory(\n",
    "    data_dir,\n",
    "    batch_size=batch_size,\n",
    "    class_mode='categorical',\n",
    "    subset='validation') # set as validation data"
   ]
  },
  {
   "cell_type": "code",
   "execution_count": 4,
   "id": "electoral-albany",
   "metadata": {},
   "outputs": [
    {
     "name": "stdout",
     "output_type": "stream",
     "text": [
      "R:\\projects\\labvit\\azulejos_ml\\trained_models\n"
     ]
    }
   ],
   "source": [
    "save_dir = os.path.join(os.getcwd(), 'trained_models')\n",
    "if not os.path.isdir(save_dir):\n",
    "  os.makedirs(save_dir)\n",
    "\n",
    "print(save_dir)"
   ]
  },
  {
   "cell_type": "markdown",
   "id": "rural-investor",
   "metadata": {},
   "source": [
    "Model definition function"
   ]
  },
  {
   "cell_type": "code",
   "execution_count": 5,
   "id": "healthy-burner",
   "metadata": {},
   "outputs": [],
   "source": [
    "def model_def(view_model=False):\n",
    "    \n",
    "    K.clear_session()\n",
    "    \n",
    "    input_shape = (256, 256, 3) # Corrige o erro do tensorflow no carregamento do modelo treinado\n",
    "    \n",
    "    model = tf.keras.models.Sequential([\n",
    "        tf.keras.layers.Conv2D(64, (3,3), padding=\"same\", activation=\"relu\", input_shape=input_shape),\n",
    "        tf.keras.layers.MaxPool2D(),\n",
    "        tf.keras.layers.Conv2D(64, (3,3), padding=\"same\", activation=\"relu\"),\n",
    "        tf.keras.layers.MaxPool2D(),\n",
    "        tf.keras.layers.Conv2D(32, (3,3), padding=\"same\", activation=\"relu\"),\n",
    "        tf.keras.layers.MaxPool2D(),\n",
    "        tf.keras.layers.Conv2D(32, (3,3), padding=\"same\", activation=\"relu\"),\n",
    "        tf.keras.layers.MaxPool2D(),\n",
    "        tf.keras.layers.Conv2D(16, (3,3), padding=\"same\", activation=\"relu\"),\n",
    "        tf.keras.layers.MaxPool2D(),\n",
    "        tf.keras.layers.Conv2D(16, (3,3), padding=\"same\", activation=\"relu\"),\n",
    "        tf.keras.layers.MaxPool2D(),\n",
    "        tf.keras.layers.Conv2D(16, (3,3), padding=\"same\", activation=\"relu\"),\n",
    "        tf.keras.layers.MaxPool2D(),\n",
    "        tf.keras.layers.Flatten(),\n",
    "        tf.keras.layers.Dense(1024, activation=\"relu\"), # 64\n",
    "        tf.keras.layers.Dense(512, activation=\"relu\"), # 32\n",
    "        tf.keras.layers.Dense(128, activation=\"relu\"), # 32\n",
    "        tf.keras.layers.Dense(12, activation=\"softmax\")])\n",
    "    \n",
    "    if view_model:\n",
    "        model.summary()\n",
    "    \n",
    "    return model"
   ]
  },
  {
   "cell_type": "markdown",
   "id": "given-gates",
   "metadata": {},
   "source": [
    "Callbacks definition function"
   ]
  },
  {
   "cell_type": "code",
   "execution_count": 6,
   "id": "material-feeling",
   "metadata": {},
   "outputs": [],
   "source": [
    "def callback_func(opt=None, nb_epochs=50, verbose=0):\n",
    "    \n",
    "    dir_name = opt.lower()+'_'+str(nb_epochs)+'_epochs'\n",
    "    checkpoint_path = os.path.join(save_dir, dir_name, 'cp-{epoch:04d}.ckpt')\n",
    "    checkpoint_dir = os.path.dirname(checkpoint_path)\n",
    "    \n",
    "    if not os.path.isdir(checkpoint_dir):\n",
    "        os.makedirs(checkpoint_dir)\n",
    "        \n",
    "    cp1_callback = tf.keras.callbacks.ModelCheckpoint(\n",
    "        filepath=checkpoint_path,\n",
    "        verbose=verbose,\n",
    "        save_weights_only=True,\n",
    "        #save_freq=60\n",
    "        monitor='val_accuracy',\n",
    "        save_best_only=True\n",
    "      )\n",
    "  \n",
    "    cp2_callback = tf.keras.callbacks.ModelCheckpoint(\n",
    "        filepath=checkpoint_path,\n",
    "        verbose=verbose,\n",
    "        save_weights_only=True,\n",
    "        #save_freq=60\n",
    "        monitor='val_loss',\n",
    "        save_best_only=True\n",
    "      )\n",
    "  \n",
    "    callbakcs_list = [cp1_callback, cp2_callback]\n",
    "\n",
    "    return callbakcs_list, checkpoint_dir"
   ]
  },
  {
   "cell_type": "markdown",
   "id": "composed-monster",
   "metadata": {},
   "source": [
    "Model and callbacks save function"
   ]
  },
  {
   "cell_type": "code",
   "execution_count": 7,
   "id": "speaking-chosen",
   "metadata": {},
   "outputs": [],
   "source": [
    "def save_func(opt=None, model=None, history=None, checkpoint_dir=None, nb_epochs=50):\n",
    "    \n",
    "    file_name = opt.lower()+'_'+str(nb_epochs)+'_epochs'\n",
    "    model_name = file_name+'.h5'\n",
    "  \n",
    "    model_path = os.path.join(save_dir, checkpoint_dir, model_name)\n",
    "    model.save(model_path)\n",
    "    print('Saved trained model at %s ' % model_path)\n",
    "\n",
    "    if len(history.keys())>2: # validation\n",
    "        np.savez(os.path.join(save_dir, checkpoint_dir, file_name+'_history'), accuracy=history['accuracy'], loss=history['loss'], val_accuracy=history['val_accuracy'], val_loss=history['val_loss'])\n",
    "    else:\n",
    "        np.savez(os.path.join(save_dir, checkpoint_dir, file_name+'_history'), accuracy=history['accuracy'], loss=history['loss'])\n",
    "\n",
    "    return 0"
   ]
  },
  {
   "cell_type": "markdown",
   "id": "remarkable-chambers",
   "metadata": {},
   "source": [
    "Model parameters function"
   ]
  },
  {
   "cell_type": "code",
   "execution_count": 8,
   "id": "subjective-transfer",
   "metadata": {},
   "outputs": [],
   "source": [
    "def model_params(opt = 'RMSprop(learning_rate=0.0001)', nb_epochs = 50, callback=True, save_model=True):\n",
    "    \n",
    "    model = model_def()\n",
    "    \n",
    "    model.compile(optimizer=eval(opt),\n",
    "                  loss=\"categorical_crossentropy\",\n",
    "                  metrics=[\"accuracy\"])\n",
    "    \n",
    "    if callback:\n",
    "        cp_callback, checkpoint_dir = callback_func(opt, nb_epochs)\n",
    "\n",
    "    start_time = time.time()\n",
    "    history = model.fit(train_generator,\n",
    "                        steps_per_epoch = len(train_generator),\n",
    "                        validation_data = validation_generator,\n",
    "                        validation_steps = len(validation_generator),\n",
    "                        epochs = nb_epochs,\n",
    "                        callbacks=[cp_callback])\n",
    "    training_time = time.time() - start_time\n",
    "    \n",
    "    print(\"\\n--- Training time: %s seconds ---\" % training_time)\n",
    "\n",
    "    val_loss, val_acc = model.evaluate(validation_generator, steps=len(validation_generator))\n",
    "    \n",
    "    if save_model==True:\n",
    "        save_func(opt, model, history.history, checkpoint_dir, nb_epochs)\n",
    "\n",
    "    return val_loss, val_acc, history.history, model"
   ]
  },
  {
   "cell_type": "markdown",
   "id": "oriented-morning",
   "metadata": {},
   "source": [
    "Main loop to run different params"
   ]
  },
  {
   "cell_type": "code",
   "execution_count": 13,
   "id": "iraqi-underground",
   "metadata": {},
   "outputs": [
    {
     "name": "stdout",
     "output_type": "stream",
     "text": [
      "RMSprop(learning_rate=0.0001)\n",
      "Epoch 1/50\n",
      "60/60 [==============================] - 60s 993ms/step - loss: 2.3982 - accuracy: 0.1831 - val_loss: 2.1782 - val_accuracy: 0.2700\n",
      "Epoch 2/50\n",
      "60/60 [==============================] - 62s 1s/step - loss: 2.0804 - accuracy: 0.2824 - val_loss: 1.9524 - val_accuracy: 0.3500\n",
      "Epoch 3/50\n",
      "60/60 [==============================] - 59s 989ms/step - loss: 1.8321 - accuracy: 0.3902 - val_loss: 1.6143 - val_accuracy: 0.4500\n",
      "Epoch 4/50\n",
      "60/60 [==============================] - 60s 1s/step - loss: 1.6159 - accuracy: 0.4320 - val_loss: 1.3268 - val_accuracy: 0.5300\n",
      "Epoch 5/50\n",
      "60/60 [==============================] - 58s 961ms/step - loss: 1.5421 - accuracy: 0.4749 - val_loss: 1.3046 - val_accuracy: 0.5700\n",
      "Epoch 6/50\n",
      "60/60 [==============================] - 58s 968ms/step - loss: 1.4319 - accuracy: 0.5021 - val_loss: 1.3170 - val_accuracy: 0.5600\n",
      "Epoch 7/50\n",
      "60/60 [==============================] - 60s 995ms/step - loss: 1.3534 - accuracy: 0.5345 - val_loss: 1.1968 - val_accuracy: 0.5600\n",
      "Epoch 8/50\n",
      "60/60 [==============================] - 58s 960ms/step - loss: 1.2838 - accuracy: 0.5523 - val_loss: 1.0940 - val_accuracy: 0.6200\n",
      "Epoch 9/50\n",
      "60/60 [==============================] - 59s 982ms/step - loss: 1.2034 - accuracy: 0.5889 - val_loss: 1.1950 - val_accuracy: 0.5800\n",
      "Epoch 10/50\n",
      "60/60 [==============================] - 58s 963ms/step - loss: 1.1173 - accuracy: 0.6245 - val_loss: 1.0639 - val_accuracy: 0.6400\n",
      "Epoch 11/50\n",
      "60/60 [==============================] - 58s 961ms/step - loss: 1.0168 - accuracy: 0.6663 - val_loss: 1.0456 - val_accuracy: 0.6300\n",
      "Epoch 12/50\n",
      "60/60 [==============================] - 55s 921ms/step - loss: 1.0010 - accuracy: 0.6517 - val_loss: 1.0141 - val_accuracy: 0.6500\n",
      "Epoch 13/50\n",
      "60/60 [==============================] - 57s 949ms/step - loss: 0.9374 - accuracy: 0.6841 - val_loss: 0.7775 - val_accuracy: 0.6600\n",
      "Epoch 14/50\n",
      "60/60 [==============================] - 62s 1s/step - loss: 0.8845 - accuracy: 0.6935 - val_loss: 0.9306 - val_accuracy: 0.7000\n",
      "Epoch 15/50\n",
      "60/60 [==============================] - 59s 981ms/step - loss: 0.8127 - accuracy: 0.7270 - val_loss: 0.8212 - val_accuracy: 0.6800\n",
      "Epoch 16/50\n",
      "60/60 [==============================] - 58s 973ms/step - loss: 0.8015 - accuracy: 0.7165 - val_loss: 0.9366 - val_accuracy: 0.6800\n",
      "Epoch 17/50\n",
      "60/60 [==============================] - 58s 973ms/step - loss: 0.7509 - accuracy: 0.7688 - val_loss: 0.6353 - val_accuracy: 0.7200\n",
      "Epoch 18/50\n",
      "60/60 [==============================] - 61s 1s/step - loss: 0.7282 - accuracy: 0.7542 - val_loss: 0.7513 - val_accuracy: 0.7400\n",
      "Epoch 19/50\n",
      "60/60 [==============================] - 61s 1s/step - loss: 0.6973 - accuracy: 0.7531 - val_loss: 0.6993 - val_accuracy: 0.7700\n",
      "Epoch 20/50\n",
      "60/60 [==============================] - 58s 960ms/step - loss: 0.6537 - accuracy: 0.7730 - val_loss: 1.1784 - val_accuracy: 0.6900\n",
      "Epoch 21/50\n",
      "60/60 [==============================] - 58s 963ms/step - loss: 0.6477 - accuracy: 0.7657 - val_loss: 0.5394 - val_accuracy: 0.7800\n",
      "Epoch 22/50\n",
      "60/60 [==============================] - 55s 909ms/step - loss: 0.5949 - accuracy: 0.7950 - val_loss: 0.6967 - val_accuracy: 0.7500\n",
      "Epoch 23/50\n",
      "60/60 [==============================] - 58s 965ms/step - loss: 0.5772 - accuracy: 0.7960 - val_loss: 0.5042 - val_accuracy: 0.8300\n",
      "Epoch 24/50\n",
      "60/60 [==============================] - 59s 986ms/step - loss: 0.5623 - accuracy: 0.7897 - val_loss: 0.6481 - val_accuracy: 0.7300\n",
      "Epoch 25/50\n",
      "60/60 [==============================] - 59s 990ms/step - loss: 0.5294 - accuracy: 0.8232 - val_loss: 0.4485 - val_accuracy: 0.8400\n",
      "Epoch 26/50\n",
      "60/60 [==============================] - 61s 1s/step - loss: 0.5168 - accuracy: 0.8222 - val_loss: 0.5209 - val_accuracy: 0.8100\n",
      "Epoch 27/50\n",
      "60/60 [==============================] - 55s 919ms/step - loss: 0.4581 - accuracy: 0.8462 - val_loss: 0.6485 - val_accuracy: 0.7800\n",
      "Epoch 28/50\n",
      "60/60 [==============================] - 54s 896ms/step - loss: 0.4513 - accuracy: 0.8410 - val_loss: 0.5872 - val_accuracy: 0.7900\n",
      "Epoch 29/50\n",
      "60/60 [==============================] - 53s 891ms/step - loss: 0.4755 - accuracy: 0.8483 - val_loss: 0.5900 - val_accuracy: 0.8300\n",
      "Epoch 30/50\n",
      "60/60 [==============================] - 54s 893ms/step - loss: 0.4562 - accuracy: 0.8421 - val_loss: 0.4901 - val_accuracy: 0.8300\n",
      "Epoch 31/50\n",
      "60/60 [==============================] - 54s 906ms/step - loss: 0.4567 - accuracy: 0.8452 - val_loss: 0.5670 - val_accuracy: 0.7700\n",
      "Epoch 32/50\n",
      "60/60 [==============================] - 54s 898ms/step - loss: 0.4110 - accuracy: 0.8577 - val_loss: 0.6148 - val_accuracy: 0.7700\n",
      "Epoch 33/50\n",
      "60/60 [==============================] - 54s 894ms/step - loss: 0.4188 - accuracy: 0.8577 - val_loss: 0.6045 - val_accuracy: 0.8000\n",
      "Epoch 34/50\n",
      "60/60 [==============================] - 54s 897ms/step - loss: 0.4193 - accuracy: 0.8441 - val_loss: 0.6415 - val_accuracy: 0.8000\n",
      "Epoch 35/50\n",
      "60/60 [==============================] - 54s 900ms/step - loss: 0.3957 - accuracy: 0.8609 - val_loss: 0.3357 - val_accuracy: 0.8700\n",
      "Epoch 36/50\n",
      "60/60 [==============================] - 54s 893ms/step - loss: 0.3723 - accuracy: 0.8703 - val_loss: 0.6265 - val_accuracy: 0.7800\n",
      "Epoch 37/50\n",
      "60/60 [==============================] - 53s 891ms/step - loss: 0.3634 - accuracy: 0.8766 - val_loss: 0.5884 - val_accuracy: 0.7900\n",
      "Epoch 38/50\n",
      "60/60 [==============================] - 54s 896ms/step - loss: 0.3445 - accuracy: 0.8828 - val_loss: 0.8219 - val_accuracy: 0.7400\n",
      "Epoch 39/50\n",
      "60/60 [==============================] - 54s 893ms/step - loss: 0.3038 - accuracy: 0.8860 - val_loss: 0.4689 - val_accuracy: 0.8500\n",
      "Epoch 40/50\n",
      "60/60 [==============================] - 54s 894ms/step - loss: 0.3368 - accuracy: 0.8860 - val_loss: 0.5550 - val_accuracy: 0.8000\n",
      "Epoch 41/50\n",
      "60/60 [==============================] - 54s 895ms/step - loss: 0.3385 - accuracy: 0.8776 - val_loss: 0.3049 - val_accuracy: 0.9100\n",
      "Epoch 42/50\n",
      "60/60 [==============================] - 54s 893ms/step - loss: 0.2928 - accuracy: 0.9006 - val_loss: 0.5189 - val_accuracy: 0.8300\n",
      "Epoch 43/50\n",
      "60/60 [==============================] - 54s 893ms/step - loss: 0.3278 - accuracy: 0.8870 - val_loss: 0.7607 - val_accuracy: 0.7900\n",
      "Epoch 44/50\n",
      "60/60 [==============================] - 54s 894ms/step - loss: 0.2745 - accuracy: 0.8902 - val_loss: 0.6676 - val_accuracy: 0.8300\n",
      "Epoch 45/50\n",
      "60/60 [==============================] - 54s 892ms/step - loss: 0.3222 - accuracy: 0.8828 - val_loss: 0.5610 - val_accuracy: 0.8200\n",
      "Epoch 46/50\n",
      "60/60 [==============================] - 53s 891ms/step - loss: 0.2710 - accuracy: 0.9048 - val_loss: 0.4830 - val_accuracy: 0.8900\n",
      "Epoch 47/50\n",
      "60/60 [==============================] - 54s 896ms/step - loss: 0.2815 - accuracy: 0.9090 - val_loss: 0.5965 - val_accuracy: 0.8100\n",
      "Epoch 48/50\n",
      "60/60 [==============================] - 53s 887ms/step - loss: 0.2601 - accuracy: 0.9038 - val_loss: 0.7790 - val_accuracy: 0.8000\n",
      "Epoch 49/50\n",
      "60/60 [==============================] - 54s 898ms/step - loss: 0.2518 - accuracy: 0.9048 - val_loss: 0.8236 - val_accuracy: 0.8100\n",
      "Epoch 50/50\n",
      "60/60 [==============================] - 54s 892ms/step - loss: 0.2204 - accuracy: 0.9215 - val_loss: 0.8118 - val_accuracy: 0.8200\n",
      "\n",
      "--- Training time: 2876.00830078125 seconds ---\n",
      "7/7 [==============================] - 2s 235ms/step - loss: 0.8392 - accuracy: 0.7600\n",
      "Saved trained model at R:\\projects\\labvit\\azulejos_ml\\trained_models\\rmsprop(learning_rate=0.0001)_50_epochs\\rmsprop(learning_rate=0.0001)_50_epochs.h5 \n",
      "\n",
      "\n",
      "SGD(learning_rate=0.005)\n",
      "Epoch 1/50\n",
      "60/60 [==============================] - 54s 902ms/step - loss: 2.4775 - accuracy: 0.1297 - val_loss: 2.4799 - val_accuracy: 0.1000\n",
      "Epoch 2/50\n",
      "60/60 [==============================] - 54s 901ms/step - loss: 2.3611 - accuracy: 0.1946 - val_loss: 2.3088 - val_accuracy: 0.2100\n",
      "Epoch 3/50\n",
      "60/60 [==============================] - 54s 903ms/step - loss: 2.1884 - accuracy: 0.2510 - val_loss: 2.0707 - val_accuracy: 0.2300\n",
      "Epoch 4/50\n",
      "60/60 [==============================] - 53s 887ms/step - loss: 2.0381 - accuracy: 0.3002 - val_loss: 1.7527 - val_accuracy: 0.3300\n",
      "Epoch 5/50\n",
      "60/60 [==============================] - 54s 894ms/step - loss: 1.8868 - accuracy: 0.3232 - val_loss: 1.7066 - val_accuracy: 0.4600\n"
     ]
    },
    {
     "name": "stdout",
     "output_type": "stream",
     "text": [
      "Epoch 6/50\n",
      "60/60 [==============================] - 53s 884ms/step - loss: 1.7166 - accuracy: 0.3828 - val_loss: 1.5036 - val_accuracy: 0.4500\n",
      "Epoch 7/50\n",
      "60/60 [==============================] - 53s 884ms/step - loss: 1.6277 - accuracy: 0.4184 - val_loss: 1.5371 - val_accuracy: 0.4500\n",
      "Epoch 8/50\n",
      "60/60 [==============================] - 53s 888ms/step - loss: 1.5215 - accuracy: 0.4592 - val_loss: 1.3047 - val_accuracy: 0.6000\n",
      "Epoch 9/50\n",
      "60/60 [==============================] - 53s 886ms/step - loss: 1.4563 - accuracy: 0.4791 - val_loss: 1.4521 - val_accuracy: 0.5000\n",
      "Epoch 10/50\n",
      "60/60 [==============================] - 53s 886ms/step - loss: 1.3866 - accuracy: 0.5157 - val_loss: 1.4183 - val_accuracy: 0.4900\n",
      "Epoch 11/50\n",
      "60/60 [==============================] - 53s 883ms/step - loss: 1.3167 - accuracy: 0.5356 - val_loss: 1.4212 - val_accuracy: 0.5400\n",
      "Epoch 12/50\n",
      "60/60 [==============================] - 53s 882ms/step - loss: 1.2567 - accuracy: 0.5460 - val_loss: 1.0224 - val_accuracy: 0.5900\n",
      "Epoch 13/50\n",
      "60/60 [==============================] - 53s 884ms/step - loss: 1.1481 - accuracy: 0.5962 - val_loss: 1.3123 - val_accuracy: 0.5500\n",
      "Epoch 14/50\n",
      "60/60 [==============================] - 53s 890ms/step - loss: 1.2584 - accuracy: 0.5680 - val_loss: 1.3471 - val_accuracy: 0.4800\n",
      "Epoch 15/50\n",
      "60/60 [==============================] - 53s 890ms/step - loss: 1.1003 - accuracy: 0.6297 - val_loss: 0.9203 - val_accuracy: 0.6600\n",
      "Epoch 16/50\n",
      "60/60 [==============================] - 53s 889ms/step - loss: 1.0295 - accuracy: 0.6600 - val_loss: 1.0342 - val_accuracy: 0.5700\n",
      "Epoch 17/50\n",
      "60/60 [==============================] - 53s 888ms/step - loss: 0.9454 - accuracy: 0.6757 - val_loss: 2.6917 - val_accuracy: 0.4700\n",
      "Epoch 18/50\n",
      "60/60 [==============================] - 53s 890ms/step - loss: 1.0192 - accuracy: 0.6506 - val_loss: 0.8359 - val_accuracy: 0.7200\n",
      "Epoch 19/50\n",
      "60/60 [==============================] - 53s 886ms/step - loss: 0.8997 - accuracy: 0.6841 - val_loss: 0.9584 - val_accuracy: 0.6700\n",
      "Epoch 20/50\n",
      "60/60 [==============================] - 53s 886ms/step - loss: 0.8538 - accuracy: 0.6998 - val_loss: 1.0739 - val_accuracy: 0.5500\n",
      "Epoch 21/50\n",
      "60/60 [==============================] - 54s 894ms/step - loss: 0.8588 - accuracy: 0.6987 - val_loss: 0.6748 - val_accuracy: 0.7700\n",
      "Epoch 22/50\n",
      "60/60 [==============================] - 53s 889ms/step - loss: 0.8139 - accuracy: 0.7228 - val_loss: 0.9736 - val_accuracy: 0.6100\n",
      "Epoch 23/50\n",
      "60/60 [==============================] - 53s 884ms/step - loss: 0.7716 - accuracy: 0.7448 - val_loss: 0.6517 - val_accuracy: 0.7500\n",
      "Epoch 24/50\n",
      "60/60 [==============================] - 53s 883ms/step - loss: 0.7722 - accuracy: 0.7238 - val_loss: 0.9199 - val_accuracy: 0.6400\n",
      "Epoch 25/50\n",
      "60/60 [==============================] - 53s 886ms/step - loss: 0.7407 - accuracy: 0.7354 - val_loss: 0.6917 - val_accuracy: 0.7200\n",
      "Epoch 26/50\n",
      "60/60 [==============================] - 53s 883ms/step - loss: 0.6883 - accuracy: 0.7709 - val_loss: 0.6740 - val_accuracy: 0.7300\n",
      "Epoch 27/50\n",
      "60/60 [==============================] - 53s 887ms/step - loss: 0.7181 - accuracy: 0.7594 - val_loss: 0.9364 - val_accuracy: 0.7000\n",
      "Epoch 28/50\n",
      "60/60 [==============================] - 53s 891ms/step - loss: 0.6790 - accuracy: 0.7730 - val_loss: 0.6465 - val_accuracy: 0.7800\n",
      "Epoch 29/50\n",
      "60/60 [==============================] - 53s 887ms/step - loss: 0.6245 - accuracy: 0.7877 - val_loss: 0.5978 - val_accuracy: 0.8200\n",
      "Epoch 30/50\n",
      "60/60 [==============================] - 53s 883ms/step - loss: 0.5559 - accuracy: 0.7992 - val_loss: 0.7239 - val_accuracy: 0.8000\n",
      "Epoch 31/50\n",
      "60/60 [==============================] - 53s 885ms/step - loss: 0.5563 - accuracy: 0.8138 - val_loss: 0.4127 - val_accuracy: 0.8200\n",
      "Epoch 32/50\n",
      "60/60 [==============================] - 53s 885ms/step - loss: 0.6209 - accuracy: 0.8054 - val_loss: 0.5143 - val_accuracy: 0.8200\n",
      "Epoch 33/50\n",
      "60/60 [==============================] - 53s 888ms/step - loss: 0.6160 - accuracy: 0.7835 - val_loss: 0.5296 - val_accuracy: 0.8100\n",
      "Epoch 34/50\n",
      "60/60 [==============================] - 53s 887ms/step - loss: 0.6193 - accuracy: 0.7856 - val_loss: 0.6170 - val_accuracy: 0.7900\n",
      "Epoch 35/50\n",
      "60/60 [==============================] - 57s 943ms/step - loss: 0.5114 - accuracy: 0.8337 - val_loss: 0.4242 - val_accuracy: 0.8700\n",
      "Epoch 36/50\n",
      "60/60 [==============================] - 61s 1s/step - loss: 0.4679 - accuracy: 0.8462 - val_loss: 0.4488 - val_accuracy: 0.8200\n",
      "Epoch 37/50\n",
      "60/60 [==============================] - 58s 968ms/step - loss: 0.5387 - accuracy: 0.8107 - val_loss: 0.4278 - val_accuracy: 0.8600\n",
      "Epoch 38/50\n",
      "60/60 [==============================] - 54s 900ms/step - loss: 0.4870 - accuracy: 0.8400 - val_loss: 0.5893 - val_accuracy: 0.7900\n",
      "Epoch 39/50\n",
      "60/60 [==============================] - 53s 889ms/step - loss: 0.4574 - accuracy: 0.8546 - val_loss: 0.3529 - val_accuracy: 0.8700\n",
      "Epoch 40/50\n",
      "60/60 [==============================] - 53s 886ms/step - loss: 0.3455 - accuracy: 0.8923 - val_loss: 0.3996 - val_accuracy: 0.8300\n",
      "Epoch 41/50\n",
      "60/60 [==============================] - 53s 890ms/step - loss: 0.5246 - accuracy: 0.8431 - val_loss: 0.5328 - val_accuracy: 0.8400\n",
      "Epoch 42/50\n",
      "60/60 [==============================] - 54s 898ms/step - loss: 0.4842 - accuracy: 0.8358 - val_loss: 0.5633 - val_accuracy: 0.7900\n",
      "Epoch 43/50\n",
      "60/60 [==============================] - 54s 892ms/step - loss: 0.4761 - accuracy: 0.8379 - val_loss: 0.4482 - val_accuracy: 0.8500\n",
      "Epoch 44/50\n",
      "60/60 [==============================] - 54s 894ms/step - loss: 0.3401 - accuracy: 0.8818 - val_loss: 0.7823 - val_accuracy: 0.7300\n",
      "Epoch 45/50\n",
      "60/60 [==============================] - 53s 888ms/step - loss: 0.5027 - accuracy: 0.8452 - val_loss: 0.3929 - val_accuracy: 0.8300\n",
      "Epoch 46/50\n",
      "60/60 [==============================] - 53s 890ms/step - loss: 0.2594 - accuracy: 0.9090 - val_loss: 0.5192 - val_accuracy: 0.8300\n",
      "Epoch 47/50\n",
      "60/60 [==============================] - 54s 897ms/step - loss: 0.4307 - accuracy: 0.8713 - val_loss: 0.6010 - val_accuracy: 0.7700\n",
      "Epoch 48/50\n",
      "60/60 [==============================] - 54s 893ms/step - loss: 0.3252 - accuracy: 0.8797 - val_loss: 0.5252 - val_accuracy: 0.8200\n",
      "Epoch 49/50\n",
      "60/60 [==============================] - 53s 890ms/step - loss: 0.4725 - accuracy: 0.8462 - val_loss: 0.4332 - val_accuracy: 0.8500\n",
      "Epoch 50/50\n",
      "60/60 [==============================] - 53s 884ms/step - loss: 0.4413 - accuracy: 0.8609 - val_loss: 0.6691 - val_accuracy: 0.8100\n",
      "\n",
      "--- Training time: 2738.3273985385895 seconds ---\n",
      "7/7 [==============================] - 2s 229ms/step - loss: 0.5163 - accuracy: 0.8400\n",
      "Saved trained model at R:\\projects\\labvit\\azulejos_ml\\trained_models\\sgd(learning_rate=0.005)_50_epochs\\sgd(learning_rate=0.005)_50_epochs.h5 \n",
      "\n",
      "\n"
     ]
    }
   ],
   "source": [
    "#opts = ['RMSprop(learning_rate=0.0001)',\n",
    " #      'RMSprop(learning_rate=0.0005)',\n",
    "  #     'RMSprop(learning_rate=0.001)',\n",
    "   #    'RMSprop(learning_rate=0.005)']\n",
    "\n",
    "#opts = ['SGD(learning_rate=0.001)',\n",
    " #      'SGD(learning_rate=0.005)',\n",
    "  #     'SGD(learning_rate=0.01)',\n",
    "   #    'SGD(learning_rate=0.05)']\n",
    "\n",
    "opts = ['RMSprop(learning_rate=0.0001)',\n",
    "        'SGD(learning_rate=0.005)']\n",
    "\n",
    "#opts = ['SGD(learning_rate=0.005)']\n",
    "\n",
    "nb_epochs = 50\n",
    "\n",
    "val_loss_list = []\n",
    "val_acc_list = []\n",
    "h_list = []\n",
    "model_list = []\n",
    "\n",
    "for opt in opts:\n",
    "    \n",
    "    print(opt)\n",
    "    \n",
    "    val_loss, val_acc, h, model = model_params(opt=opt, nb_epochs=nb_epochs, save_model=True)\n",
    "    \n",
    "    print('\\n')\n",
    "    \n",
    "    val_loss_list.append(val_loss)\n",
    "    val_acc_list.append(val_acc)\n",
    "    h_list.append(h)\n",
    "    model_list.append(model)"
   ]
  },
  {
   "cell_type": "code",
   "execution_count": 14,
   "id": "limited-munich",
   "metadata": {},
   "outputs": [
    {
     "data": {
      "text/html": [
       "<div>\n",
       "<style scoped>\n",
       "    .dataframe tbody tr th:only-of-type {\n",
       "        vertical-align: middle;\n",
       "    }\n",
       "\n",
       "    .dataframe tbody tr th {\n",
       "        vertical-align: top;\n",
       "    }\n",
       "\n",
       "    .dataframe thead th {\n",
       "        text-align: right;\n",
       "    }\n",
       "</style>\n",
       "<table border=\"1\" class=\"dataframe\">\n",
       "  <thead>\n",
       "    <tr style=\"text-align: right;\">\n",
       "      <th></th>\n",
       "      <th>Accuracy</th>\n",
       "    </tr>\n",
       "  </thead>\n",
       "  <tbody>\n",
       "    <tr>\n",
       "      <th>RMSprop(learning_rate=0.0001)</th>\n",
       "      <td>0.7599999904632568</td>\n",
       "    </tr>\n",
       "    <tr>\n",
       "      <th>SGD(learning_rate=0.005)</th>\n",
       "      <td>0.8399999737739563</td>\n",
       "    </tr>\n",
       "  </tbody>\n",
       "</table>\n",
       "</div>"
      ],
      "text/plain": [
       "                                         Accuracy\n",
       "RMSprop(learning_rate=0.0001)  0.7599999904632568\n",
       "SGD(learning_rate=0.005)       0.8399999737739563"
      ]
     },
     "execution_count": 14,
     "metadata": {},
     "output_type": "execute_result"
    }
   ],
   "source": [
    "dflist = []\n",
    "myDict = {}\n",
    "\n",
    "for i in range(len(opts)):\n",
    "    x = np.array(val_acc_list[i])\n",
    "    dflist.append(pd.Series(x))\n",
    "    myDict[i] = opts[i]\n",
    "\n",
    "df = pd.concat(dflist, axis=1)    \n",
    "\n",
    "#df.rename(columns={0:opt[0], 1:opt[1], 2:opt[2], 3:opt[3]}, index={0:'Accuracy'}).T\n",
    "df = df.rename(columns=myDict, index={0:'Accuracy'}).T\n",
    "\n",
    "#df.to_excel(os.path.join(result_dir, 'teste_acc.xlsx'))\n",
    "df.head()"
   ]
  },
  {
   "cell_type": "code",
   "execution_count": 15,
   "id": "cloudy-circular",
   "metadata": {},
   "outputs": [
    {
     "data": {
      "text/html": [
       "<div>\n",
       "<style scoped>\n",
       "    .dataframe tbody tr th:only-of-type {\n",
       "        vertical-align: middle;\n",
       "    }\n",
       "\n",
       "    .dataframe tbody tr th {\n",
       "        vertical-align: top;\n",
       "    }\n",
       "\n",
       "    .dataframe thead th {\n",
       "        text-align: right;\n",
       "    }\n",
       "</style>\n",
       "<table border=\"1\" class=\"dataframe\">\n",
       "  <thead>\n",
       "    <tr style=\"text-align: right;\">\n",
       "      <th></th>\n",
       "      <th>Loss</th>\n",
       "    </tr>\n",
       "  </thead>\n",
       "  <tbody>\n",
       "    <tr>\n",
       "      <th>RMSprop(learning_rate=0.0001)</th>\n",
       "      <td>0.8391794562339783</td>\n",
       "    </tr>\n",
       "    <tr>\n",
       "      <th>SGD(learning_rate=0.005)</th>\n",
       "      <td>0.5163215398788452</td>\n",
       "    </tr>\n",
       "  </tbody>\n",
       "</table>\n",
       "</div>"
      ],
      "text/plain": [
       "                                             Loss\n",
       "RMSprop(learning_rate=0.0001)  0.8391794562339783\n",
       "SGD(learning_rate=0.005)       0.5163215398788452"
      ]
     },
     "execution_count": 15,
     "metadata": {},
     "output_type": "execute_result"
    }
   ],
   "source": [
    "dflist = []\n",
    "myDict = {}\n",
    "\n",
    "for i in range(len(opts)):\n",
    "    x = np.array(val_loss_list[i])\n",
    "    dflist.append(pd.Series(x))\n",
    "    myDict[i] = opts[i]\n",
    "\n",
    "df = pd.concat(dflist, axis=1)\n",
    "\n",
    "df = df.rename(columns=myDict, index={0:'Loss'}).T\n",
    "\n",
    "#df.to_excel(os.path.join(result_dir, 'teste_loss.xlsx'))\n",
    "df.head()"
   ]
  },
  {
   "cell_type": "code",
   "execution_count": 16,
   "id": "young-insulation",
   "metadata": {},
   "outputs": [
    {
     "data": {
      "image/png": "[encoded data removed]",
      "text/plain": [
       "<Figure size 432x288 with 1 Axes>"
      ]
     },
     "metadata": {
      "needs_background": "light"
     },
     "output_type": "display_data"
    }
   ],
   "source": [
    "x = np.arange(1, np.size(h_list[0]['accuracy'])+1)\n",
    "\n",
    "for i in range(len(opts)):\n",
    "    plt.plot(x, h_list[i]['loss'])\n",
    "\n",
    "plt.ylabel('Loss')\n",
    "plt.xlabel('Epoch')\n",
    "plt.legend(opts, loc='best')\n",
    "#plt.savefig(os.path.join(result_dir, 'teste_loss_plot.png'), dpi=300)\n",
    "plt.show()"
   ]
  },
  {
   "cell_type": "code",
   "execution_count": 17,
   "id": "mature-agriculture",
   "metadata": {},
   "outputs": [
    {
     "data": {
      "image/png": "[encoded data removed]",
      "text/plain": [
       "<Figure size 432x288 with 1 Axes>"
      ]
     },
     "metadata": {
      "needs_background": "light"
     },
     "output_type": "display_data"
    }
   ],
   "source": [
    "x = np.arange(1, np.size(h_list[0]['accuracy'])+1)\n",
    "\n",
    "for i in range(len(opts)):\n",
    "    plt.plot(x, h_list[i]['accuracy'])\n",
    "\n",
    "plt.ylabel('Accuracy')\n",
    "plt.xlabel('Epoch')\n",
    "plt.legend(opts, loc='best')\n",
    "#plt.savefig(os.path.join(result_dir, 'teste_acc_plot.png'), dpi=300)\n",
    "plt.show()"
   ]
  },
  {
   "cell_type": "markdown",
   "id": "sonic-regulation",
   "metadata": {},
   "source": [
    "# Evaluation and results of the model"
   ]
  },
  {
   "cell_type": "markdown",
   "id": "under-milwaukee",
   "metadata": {},
   "source": [
    "Load history of saved model"
   ]
  },
  {
   "cell_type": "code",
   "execution_count": 3,
   "id": "educated-steering",
   "metadata": {},
   "outputs": [],
   "source": [
    "dir_name = 'trained_models\\sgd(learning_rate=0.005)_500_epochs'"
   ]
  },
  {
   "cell_type": "code",
   "execution_count": 4,
   "id": "accomplished-classic",
   "metadata": {},
   "outputs": [],
   "source": [
    "data_name = 'sgd(learning_rate=0.005)_500_epochs_history.npz'"
   ]
  },
  {
   "cell_type": "code",
   "execution_count": 5,
   "id": "covered-cemetery",
   "metadata": {},
   "outputs": [
    {
     "name": "stdout",
     "output_type": "stream",
     "text": [
      "['accuracy', 'loss', 'val_accuracy', 'val_loss']\n"
     ]
    }
   ],
   "source": [
    "data = np.load(os.path.join(dir_name, data_name))\n",
    "\n",
    "x = np.arange(1, np.size(data['accuracy'])+1)\n",
    "\n",
    "print(data.files)"
   ]
  },
  {
   "cell_type": "code",
   "execution_count": 6,
   "id": "mounted-wyoming",
   "metadata": {},
   "outputs": [
    {
     "data": {
      "image/png": "[encoded data removed]",
      "text/plain": [
       "<Figure size 432x288 with 1 Axes>"
      ]
     },
     "metadata": {
      "needs_background": "light"
     },
     "output_type": "display_data"
    }
   ],
   "source": [
    "plt.plot(x, data['loss'])\n",
    "plt.ylabel('Loss')\n",
    "plt.xlabel('Epoch')\n",
    "plt.legend(['Training'], loc='best')\n",
    "plt.show()"
   ]
  },
  {
   "cell_type": "code",
   "execution_count": 7,
   "id": "documentary-russell",
   "metadata": {},
   "outputs": [
    {
     "data": {
      "image/png": "[encoded data removed]",
      "text/plain": [
       "<Figure size 432x288 with 1 Axes>"
      ]
     },
     "metadata": {
      "needs_background": "light"
     },
     "output_type": "display_data"
    }
   ],
   "source": [
    "plt.plot(x, data['accuracy'])\n",
    "plt.ylabel('Loss')\n",
    "plt.xlabel('Epoch')\n",
    "plt.legend(['Training'], loc='best')\n",
    "plt.show()"
   ]
  },
  {
   "cell_type": "code",
   "execution_count": 8,
   "id": "generic-management",
   "metadata": {},
   "outputs": [
    {
     "name": "stdout",
     "output_type": "stream",
     "text": [
      "Found 956 images belonging to 12 classes.\n",
      "Found 100 images belonging to 12 classes.\n"
     ]
    }
   ],
   "source": [
    "train_datagen = im.ImageDataGenerator(\n",
    "    preprocessing_function=preprocess_input,\n",
    "    validation_split=0.1\n",
    ")\n",
    "\n",
    "train_generator = train_datagen.flow_from_directory(\n",
    "    data_dir,\n",
    "    batch_size=batch_size,\n",
    "    class_mode='categorical',\n",
    "    subset='training') # set as training data\n",
    "\n",
    "validation_generator = train_datagen.flow_from_directory(\n",
    "    data_dir,\n",
    "    batch_size=batch_size,\n",
    "    shuffle=False, \n",
    "    class_mode='categorical',\n",
    "    subset='validation') # set as validation data"
   ]
  },
  {
   "cell_type": "markdown",
   "id": "mature-participation",
   "metadata": {},
   "source": [
    "Loading of model"
   ]
  },
  {
   "cell_type": "code",
   "execution_count": 9,
   "id": "addressed-shame",
   "metadata": {},
   "outputs": [],
   "source": [
    "model_name = 'sgd(learning_rate=0.005)_500_epochs.h5'"
   ]
  },
  {
   "cell_type": "code",
   "execution_count": 10,
   "id": "combined-stream",
   "metadata": {},
   "outputs": [],
   "source": [
    "model = load_model(os.path.join(dir_name, model_name))"
   ]
  },
  {
   "cell_type": "code",
   "execution_count": 11,
   "id": "structural-session",
   "metadata": {},
   "outputs": [
    {
     "data": {
      "text/plain": [
       "(None, 256, 256, 3)"
      ]
     },
     "execution_count": 11,
     "metadata": {},
     "output_type": "execute_result"
    }
   ],
   "source": [
    "model.input_shape"
   ]
  },
  {
   "cell_type": "markdown",
   "id": "delayed-clark",
   "metadata": {},
   "source": [
    "Loading of model weights"
   ]
  },
  {
   "cell_type": "code",
   "execution_count": 12,
   "id": "hidden-sample",
   "metadata": {},
   "outputs": [],
   "source": [
    "weights_name = 'cp-0485.ckpt'"
   ]
  },
  {
   "cell_type": "code",
   "execution_count": 13,
   "id": "impressive-interval",
   "metadata": {},
   "outputs": [
    {
     "data": {
      "text/plain": [
       "<tensorflow.python.training.tracking.util.CheckpointLoadStatus at 0x1c5fbefc9a0>"
      ]
     },
     "execution_count": 13,
     "metadata": {},
     "output_type": "execute_result"
    }
   ],
   "source": [
    "model.load_weights(os.path.join(dir_name, weights_name))"
   ]
  },
  {
   "cell_type": "code",
   "execution_count": 14,
   "id": "seven-canyon",
   "metadata": {},
   "outputs": [
    {
     "name": "stdout",
     "output_type": "stream",
     "text": [
      "7/7 - 2s - loss: 0.3538 - accuracy: 0.9600\n"
     ]
    }
   ],
   "source": [
    "loss, acc = model.evaluate(validation_generator, verbose=2)"
   ]
  },
  {
   "cell_type": "code",
   "execution_count": 15,
   "id": "labeled-locking",
   "metadata": {},
   "outputs": [
    {
     "name": "stdout",
     "output_type": "stream",
     "text": [
      "Acurracy: 96.00%\n",
      "Loss: 0.3538\n"
     ]
    }
   ],
   "source": [
    "print('Acurracy: %.2f%%' % (acc*100))\n",
    "print('Loss: %.4f' % loss)"
   ]
  },
  {
   "cell_type": "markdown",
   "id": "optional-encyclopedia",
   "metadata": {},
   "source": [
    "# TF Lite Conversion"
   ]
  },
  {
   "cell_type": "code",
   "execution_count": 17,
   "id": "wicked-pearl",
   "metadata": {},
   "outputs": [
    {
     "name": "stdout",
     "output_type": "stream",
     "text": [
      "INFO:tensorflow:Assets written to: C:\\Users\\rafae\\AppData\\Local\\Temp\\tmpz2ix9pfd\\assets\n"
     ]
    },
    {
     "name": "stderr",
     "output_type": "stream",
     "text": [
      "INFO:tensorflow:Assets written to: C:\\Users\\rafae\\AppData\\Local\\Temp\\tmpz2ix9pfd\\assets\n"
     ]
    }
   ],
   "source": [
    "#model._set_inputs(tf.keras.Input((299,299,3)))\n",
    "converter = tf.lite.TFLiteConverter.from_keras_model(model)\n",
    "tflite_model = converter.convert()\n",
    "\n",
    "# Save the model.\n",
    "with open(\"trained_models/\" + 'model_sgd.tflite', 'wb') as f:\n",
    "    f.write(tflite_model)"
   ]
  },
  {
   "cell_type": "markdown",
   "id": "honey-engineer",
   "metadata": {},
   "source": [
    "# CSV file"
   ]
  },
  {
   "cell_type": "code",
   "execution_count": 18,
   "id": "fatal-tanzania",
   "metadata": {},
   "outputs": [
    {
     "name": "stdout",
     "output_type": "stream",
     "text": [
      "['accuracy', 'loss', 'val_accuracy', 'val_loss']\n"
     ]
    }
   ],
   "source": [
    "history_files = data.files\n",
    "print(history_files)"
   ]
  },
  {
   "cell_type": "markdown",
   "id": "close-organ",
   "metadata": {},
   "source": [
    "Create dict and DataFrame"
   ]
  },
  {
   "cell_type": "code",
   "execution_count": 19,
   "id": "southeast-wagon",
   "metadata": {},
   "outputs": [
    {
     "data": {
      "text/html": [
       "<div>\n",
       "<style scoped>\n",
       "    .dataframe tbody tr th:only-of-type {\n",
       "        vertical-align: middle;\n",
       "    }\n",
       "\n",
       "    .dataframe tbody tr th {\n",
       "        vertical-align: top;\n",
       "    }\n",
       "\n",
       "    .dataframe thead th {\n",
       "        text-align: right;\n",
       "    }\n",
       "</style>\n",
       "<table border=\"1\" class=\"dataframe\">\n",
       "  <thead>\n",
       "    <tr style=\"text-align: right;\">\n",
       "      <th></th>\n",
       "      <th>accuracy</th>\n",
       "      <th>loss</th>\n",
       "      <th>val_accuracy</th>\n",
       "      <th>val_loss</th>\n",
       "    </tr>\n",
       "  </thead>\n",
       "  <tbody>\n",
       "    <tr>\n",
       "      <th>0</th>\n",
       "      <td>0.177824</td>\n",
       "      <td>2.374631</td>\n",
       "      <td>0.15</td>\n",
       "      <td>2.275398</td>\n",
       "    </tr>\n",
       "    <tr>\n",
       "      <th>1</th>\n",
       "      <td>0.261506</td>\n",
       "      <td>2.139382</td>\n",
       "      <td>0.37</td>\n",
       "      <td>1.938977</td>\n",
       "    </tr>\n",
       "    <tr>\n",
       "      <th>2</th>\n",
       "      <td>0.320084</td>\n",
       "      <td>1.993228</td>\n",
       "      <td>0.32</td>\n",
       "      <td>1.885215</td>\n",
       "    </tr>\n",
       "    <tr>\n",
       "      <th>3</th>\n",
       "      <td>0.341004</td>\n",
       "      <td>1.876089</td>\n",
       "      <td>0.40</td>\n",
       "      <td>1.840134</td>\n",
       "    </tr>\n",
       "    <tr>\n",
       "      <th>4</th>\n",
       "      <td>0.394351</td>\n",
       "      <td>1.784726</td>\n",
       "      <td>0.29</td>\n",
       "      <td>1.850431</td>\n",
       "    </tr>\n",
       "  </tbody>\n",
       "</table>\n",
       "</div>"
      ],
      "text/plain": [
       "   accuracy      loss  val_accuracy  val_loss\n",
       "0  0.177824  2.374631          0.15  2.275398\n",
       "1  0.261506  2.139382          0.37  1.938977\n",
       "2  0.320084  1.993228          0.32  1.885215\n",
       "3  0.341004  1.876089          0.40  1.840134\n",
       "4  0.394351  1.784726          0.29  1.850431"
      ]
     },
     "execution_count": 19,
     "metadata": {},
     "output_type": "execute_result"
    }
   ],
   "source": [
    "myDict = {}\n",
    "for name in history_files:\n",
    "    myDict[name] = data[name]\n",
    "\n",
    "df_history = pd.DataFrame(myDict)\n",
    "df_history.head()"
   ]
  },
  {
   "cell_type": "markdown",
   "id": "proper-fancy",
   "metadata": {},
   "source": [
    "Save history DataFrame"
   ]
  },
  {
   "cell_type": "code",
   "execution_count": 20,
   "id": "voluntary-fence",
   "metadata": {},
   "outputs": [],
   "source": [
    "df_history.to_csv(os.path.join(dir_name, data_name[:-3]+'csv'), index=False)"
   ]
  },
  {
   "cell_type": "markdown",
   "id": "charged-lover",
   "metadata": {},
   "source": [
    "Read saved csv file"
   ]
  },
  {
   "cell_type": "code",
   "execution_count": 21,
   "id": "stunning-country",
   "metadata": {},
   "outputs": [
    {
     "data": {
      "text/html": [
       "<div>\n",
       "<style scoped>\n",
       "    .dataframe tbody tr th:only-of-type {\n",
       "        vertical-align: middle;\n",
       "    }\n",
       "\n",
       "    .dataframe tbody tr th {\n",
       "        vertical-align: top;\n",
       "    }\n",
       "\n",
       "    .dataframe thead th {\n",
       "        text-align: right;\n",
       "    }\n",
       "</style>\n",
       "<table border=\"1\" class=\"dataframe\">\n",
       "  <thead>\n",
       "    <tr style=\"text-align: right;\">\n",
       "      <th></th>\n",
       "      <th>accuracy</th>\n",
       "      <th>loss</th>\n",
       "      <th>val_accuracy</th>\n",
       "      <th>val_loss</th>\n",
       "    </tr>\n",
       "  </thead>\n",
       "  <tbody>\n",
       "    <tr>\n",
       "      <th>0</th>\n",
       "      <td>0.177824</td>\n",
       "      <td>2.374631</td>\n",
       "      <td>0.15</td>\n",
       "      <td>2.275398</td>\n",
       "    </tr>\n",
       "    <tr>\n",
       "      <th>1</th>\n",
       "      <td>0.261506</td>\n",
       "      <td>2.139382</td>\n",
       "      <td>0.37</td>\n",
       "      <td>1.938977</td>\n",
       "    </tr>\n",
       "    <tr>\n",
       "      <th>2</th>\n",
       "      <td>0.320084</td>\n",
       "      <td>1.993228</td>\n",
       "      <td>0.32</td>\n",
       "      <td>1.885215</td>\n",
       "    </tr>\n",
       "    <tr>\n",
       "      <th>3</th>\n",
       "      <td>0.341004</td>\n",
       "      <td>1.876089</td>\n",
       "      <td>0.40</td>\n",
       "      <td>1.840134</td>\n",
       "    </tr>\n",
       "    <tr>\n",
       "      <th>4</th>\n",
       "      <td>0.394351</td>\n",
       "      <td>1.784726</td>\n",
       "      <td>0.29</td>\n",
       "      <td>1.850431</td>\n",
       "    </tr>\n",
       "  </tbody>\n",
       "</table>\n",
       "</div>"
      ],
      "text/plain": [
       "   accuracy      loss  val_accuracy  val_loss\n",
       "0  0.177824  2.374631          0.15  2.275398\n",
       "1  0.261506  2.139382          0.37  1.938977\n",
       "2  0.320084  1.993228          0.32  1.885215\n",
       "3  0.341004  1.876089          0.40  1.840134\n",
       "4  0.394351  1.784726          0.29  1.850431"
      ]
     },
     "execution_count": 21,
     "metadata": {},
     "output_type": "execute_result"
    }
   ],
   "source": [
    "df_test = pd.read_csv(os.path.join(dir_name, data_name[:-3]+'csv'))\n",
    "df_test.head()"
   ]
  },
  {
   "cell_type": "markdown",
   "id": "exempt-taylor",
   "metadata": {},
   "source": [
    "# Confusion matrix and classification report"
   ]
  },
  {
   "cell_type": "code",
   "execution_count": 22,
   "id": "valid-broadway",
   "metadata": {},
   "outputs": [],
   "source": [
    "pred = model.predict(validation_generator)"
   ]
  },
  {
   "cell_type": "code",
   "execution_count": 23,
   "id": "small-mercury",
   "metadata": {},
   "outputs": [
    {
     "data": {
      "text/plain": [
       "(100, 12)"
      ]
     },
     "execution_count": 23,
     "metadata": {},
     "output_type": "execute_result"
    }
   ],
   "source": [
    "pred.shape"
   ]
  },
  {
   "cell_type": "code",
   "execution_count": 24,
   "id": "complete-liverpool",
   "metadata": {},
   "outputs": [
    {
     "name": "stdout",
     "output_type": "stream",
     "text": [
      "[[ 8  0  0  0  0  0  0  0  0  0  0  0]\n",
      " [ 0  7  0  0  0  0  0  0  0  0  0  0]\n",
      " [ 0  0 10  0  0  0  0  0  0  0  0  0]\n",
      " [ 0  0  0  8  0  0  0  0  0  0  0  0]\n",
      " [ 0  0  0  0 12  0  0  0  0  0  0  0]\n",
      " [ 0  1  0  0  0  7  0  0  0  0  0  0]\n",
      " [ 0  0  0  0  0  0  7  0  0  0  0  0]\n",
      " [ 0  0  0  0  0  0  0 11  0  0  0  0]\n",
      " [ 0  0  0  0  0  0  0  0  7  0  0  0]\n",
      " [ 0  0  0  0  0  0  0  0  0  9  0  1]\n",
      " [ 0  0  1  0  0  0  0  0  0  0  3  0]\n",
      " [ 0  0  0  0  0  0  1  0  0  0  0  7]]\n"
     ]
    }
   ],
   "source": [
    "cm = confusion_matrix(validation_generator.classes, np.argmax(pred, axis=1))\n",
    "print(cm)"
   ]
  },
  {
   "cell_type": "code",
   "execution_count": 25,
   "id": "southern-domestic",
   "metadata": {},
   "outputs": [
    {
     "data": {
      "text/plain": [
       "{'casaache': 0,\n",
       " 'fotoativa': 1,\n",
       " 'ihgp': 2,\n",
       " 'largoredondo': 3,\n",
       " 'mercado': 4,\n",
       " 'particular1': 5,\n",
       " 'particular2': 6,\n",
       " 'pinho': 7,\n",
       " 'pizzeria': 8,\n",
       " 'sesc': 9,\n",
       " 'soberano': 10,\n",
       " 'tomazia': 11}"
      ]
     },
     "execution_count": 25,
     "metadata": {},
     "output_type": "execute_result"
    }
   ],
   "source": [
    "validation_generator.class_indices"
   ]
  },
  {
   "cell_type": "code",
   "execution_count": 26,
   "id": "satisfactory-degree",
   "metadata": {},
   "outputs": [],
   "source": [
    "target_names = ['casaache',\n",
    "                'fotoativa',\n",
    "                'ihgp',\n",
    "                'largoredondo',\n",
    "                'mercado',\n",
    "                'particular1',\n",
    "                'particular2',\n",
    "                'pinho',\n",
    "                'pizzeria',\n",
    "                'sesc',\n",
    "                'soberano',\n",
    "                'tomazia']"
   ]
  },
  {
   "cell_type": "code",
   "execution_count": 27,
   "id": "novel-machinery",
   "metadata": {},
   "outputs": [],
   "source": [
    "def plot_cm(cm, classes, cmap=plt.cm.Blues, normalize = False, fig_dir=''):\n",
    "    \n",
    "    if normalize:\n",
    "        cm = cm.astype('float') / cm.sum(axis=1)[:, np.newaxis]\n",
    "        cm = cm*100\n",
    "        print(\"Normalized confusion matrix\")\n",
    "    else:\n",
    "        print('Confusion matrix, without normalization')\n",
    "\n",
    "    fig, ax = plt.subplots(dpi=150)\n",
    "    im = ax.imshow(cm, interpolation='nearest', cmap=cmap)\n",
    "    ax.figure.colorbar(im, ax=ax)\n",
    "    # We want to show all ticks...\n",
    "    ax.set(xticks=np.arange(cm.shape[1]),\n",
    "           yticks=np.arange(cm.shape[0]),\n",
    "           # ... and label them with the respective list entries\n",
    "           xticklabels=classes, yticklabels=classes,\n",
    "    #       title=title,\n",
    "           ylabel='True label',\n",
    "           xlabel='Predicted label')\n",
    "\n",
    "    # Rotate the tick labels and set their alignment.\n",
    "    plt.setp(ax.get_xticklabels(), rotation=45, ha=\"right\",\n",
    "             rotation_mode=\"anchor\")\n",
    "\n",
    "    # Loop over data dimensions and create text annotations.\n",
    "    fmt = '.2f' if normalize else 'd'\n",
    "    thresh = cm.max() / 2.\n",
    "    for i in range(cm.shape[0]):\n",
    "        for j in range(cm.shape[1]):\n",
    "            ax.text(j, i, format(cm[i, j], fmt),\n",
    "                    ha=\"center\", va=\"center\",\n",
    "                    color=\"white\" if cm[i, j] > thresh else \"black\")\n",
    "    fig.tight_layout()\n",
    "    #plt.savefig(os.path.join(fig_dir, 'confusion_matrix.png'), bbox_inches = 'tight')\n",
    "    plt.savefig(os.path.join(fig_dir, 'confusion_matrix.pdf'), bbox_inches = 'tight')\n",
    "    return None"
   ]
  },
  {
   "cell_type": "code",
   "execution_count": 28,
   "id": "lightweight-ethernet",
   "metadata": {},
   "outputs": [
    {
     "name": "stdout",
     "output_type": "stream",
     "text": [
      "Confusion matrix, without normalization\n"
     ]
    },
    {
     "data": {
      "image/png": "[encoded data removed]",
      "text/plain": [
       "<Figure size 900x600 with 2 Axes>"
      ]
     },
     "metadata": {
      "needs_background": "light"
     },
     "output_type": "display_data"
    }
   ],
   "source": [
    "plot_cm(cm, classes=target_names, normalize=False, fig_dir=dir_name)"
   ]
  },
  {
   "cell_type": "code",
   "execution_count": 29,
   "id": "useful-chosen",
   "metadata": {},
   "outputs": [
    {
     "name": "stdout",
     "output_type": "stream",
     "text": [
      "              precision    recall  f1-score   support\n",
      "\n",
      "    casaache       1.00      1.00      1.00         8\n",
      "   fotoativa       0.88      1.00      0.93         7\n",
      "        ihgp       0.91      1.00      0.95        10\n",
      "largoredondo       1.00      1.00      1.00         8\n",
      "     mercado       1.00      1.00      1.00        12\n",
      " particular1       1.00      0.88      0.93         8\n",
      " particular2       0.88      1.00      0.93         7\n",
      "       pinho       1.00      1.00      1.00        11\n",
      "    pizzeria       1.00      1.00      1.00         7\n",
      "        sesc       1.00      0.90      0.95        10\n",
      "    soberano       1.00      0.75      0.86         4\n",
      "     tomazia       0.88      0.88      0.88         8\n",
      "\n",
      "    accuracy                           0.96       100\n",
      "   macro avg       0.96      0.95      0.95       100\n",
      "weighted avg       0.96      0.96      0.96       100\n",
      "\n"
     ]
    }
   ],
   "source": [
    "print(classification_report(validation_generator.classes, np.argmax(pred, axis=1), target_names=target_names))"
   ]
  }
 ],
 "metadata": {
  "kernelspec": {
   "display_name": "Python 3",
   "language": "python",
   "name": "python3"
  },
  "language_info": {
   "codemirror_mode": {
    "name": "ipython",
    "version": 3
   },
   "file_extension": ".py",
   "mimetype": "text/x-python",
   "name": "python",
   "nbconvert_exporter": "python",
   "pygments_lexer": "ipython3",
   "version": "3.8.8"
  }
 },
 "nbformat": 4,
 "nbformat_minor": 5
}
