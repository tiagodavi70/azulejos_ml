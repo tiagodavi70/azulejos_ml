{
 "cells": [
  {
   "cell_type": "code",
   "execution_count": 28,
   "id": "mysterious-theme",
   "metadata": {},
   "outputs": [],
   "source": [
    "import cv2 as cv\n",
    "import numpy as np\n",
    "import pandas as pd\n",
    "import os\n",
    "\n",
    "import tensorflow as tf\n",
    "from tensorflow import keras\n",
    "from tensorflow.keras.preprocessing import image as im\n",
    "from tensorflow.keras.applications.imagenet_utils import preprocess_input\n",
    "from tensorflow.keras.applications.vgg19 import VGG19\n",
    "from tensorflow.keras.models import Sequential, Model\n",
    "import pickle\n",
    "\n",
    "from keras import backend as K\n",
    "from tensorflow.keras.optimizers import SGD, Adam, Adagrad, RMSprop\n",
    "import matplotlib.pyplot as plt\n",
    "import pandas as pd\n",
    "import numpy\n",
    "import time\n",
    "from tensorflow.keras.models import load_model"
   ]
  },
  {
   "cell_type": "code",
   "execution_count": 2,
   "id": "clinical-wisdom",
   "metadata": {},
   "outputs": [],
   "source": [
    "data_dir = \"base\"\n",
    "batch_size = 16"
   ]
  },
  {
   "cell_type": "code",
   "execution_count": 3,
   "id": "obvious-secretariat",
   "metadata": {},
   "outputs": [
    {
     "name": "stdout",
     "output_type": "stream",
     "text": [
      "Found 956 images belonging to 12 classes.\n",
      "Found 100 images belonging to 12 classes.\n"
     ]
    }
   ],
   "source": [
    "train_datagen = im.ImageDataGenerator(\n",
    "    preprocessing_function=preprocess_input,\n",
    "    shear_range=0.2,\n",
    "    zoom_range=0.2,\n",
    "    horizontal_flip=True,\n",
    "    validation_split=0.1)\n",
    "\n",
    "train_generator = train_datagen.flow_from_directory(\n",
    "    data_dir,\n",
    "    batch_size=batch_size,\n",
    "    class_mode='categorical',\n",
    "    subset='training') # set as training data\n",
    "\n",
    "validation_generator = train_datagen.flow_from_directory(\n",
    "    data_dir,\n",
    "    batch_size=batch_size,\n",
    "    class_mode='categorical',\n",
    "    subset='validation') # set as validation data"
   ]
  },
  {
   "cell_type": "code",
   "execution_count": 5,
   "id": "electoral-albany",
   "metadata": {},
   "outputs": [
    {
     "name": "stdout",
     "output_type": "stream",
     "text": [
      "R:\\projects\\labvit\\azulejos_ml\\trained_models\n",
      "R:\\projects\\labvit\\azulejos_ml\\results\n"
     ]
    }
   ],
   "source": [
    "save_dir = os.path.join(os.getcwd(), 'trained_models')\n",
    "if not os.path.isdir(save_dir):\n",
    "  os.makedirs(save_dir)\n",
    "\n",
    "result_dir = os.path.join(os.getcwd(), 'results')\n",
    "if not os.path.isdir(result_dir):\n",
    "  os.makedirs(result_dir)\n",
    "\n",
    "print(save_dir)\n",
    "print(result_dir)"
   ]
  },
  {
   "cell_type": "code",
   "execution_count": 6,
   "id": "healthy-burner",
   "metadata": {},
   "outputs": [],
   "source": [
    "def model_def(view_model=False):\n",
    "    \n",
    "    K.clear_session()\n",
    "    \n",
    "    input_shape = (256, 256, 3) # Corrige o erro do tensorflow no carregamento do modelo treinado\n",
    "    \n",
    "    model = tf.keras.models.Sequential([\n",
    "        tf.keras.layers.Conv2D(64, (3,3), padding=\"same\", activation=\"relu\", input_shape=input_shape),\n",
    "        tf.keras.layers.MaxPool2D(),\n",
    "        tf.keras.layers.Conv2D(64, (3,3), padding=\"same\", activation=\"relu\"),\n",
    "        tf.keras.layers.MaxPool2D(),\n",
    "        tf.keras.layers.Conv2D(32, (3,3), padding=\"same\", activation=\"relu\"),\n",
    "        tf.keras.layers.MaxPool2D(),\n",
    "        tf.keras.layers.Conv2D(32, (3,3), padding=\"same\", activation=\"relu\"),\n",
    "        tf.keras.layers.MaxPool2D(),\n",
    "        tf.keras.layers.Conv2D(16, (3,3), padding=\"same\", activation=\"relu\"),\n",
    "        tf.keras.layers.MaxPool2D(),\n",
    "        tf.keras.layers.Conv2D(16, (3,3), padding=\"same\", activation=\"relu\"),\n",
    "        tf.keras.layers.MaxPool2D(),\n",
    "        tf.keras.layers.Conv2D(16, (3,3), padding=\"same\", activation=\"relu\"),\n",
    "        tf.keras.layers.MaxPool2D(),\n",
    "        tf.keras.layers.Flatten(),\n",
    "        tf.keras.layers.Dense(1024, activation=\"relu\"), # 64\n",
    "        tf.keras.layers.Dense(512, activation=\"relu\"), # 32\n",
    "        tf.keras.layers.Dense(128, activation=\"relu\"), # 32\n",
    "        tf.keras.layers.Dense(12, activation=\"softmax\")])\n",
    "    \n",
    "    if view_model:\n",
    "        model.summary()\n",
    "    \n",
    "    return model"
   ]
  },
  {
   "cell_type": "code",
   "execution_count": 10,
   "id": "material-feeling",
   "metadata": {},
   "outputs": [],
   "source": [
    "def callback_func(opt=None, nb_epochs=50, verbose=0):\n",
    "    \n",
    "    dir_name = opt.lower()+'_'+str(nb_epochs)+'_epochs'\n",
    "    checkpoint_path = os.path.join(save_dir, dir_name, 'cp-{epoch:04d}.ckpt')\n",
    "    checkpoint_dir = os.path.dirname(checkpoint_path)\n",
    "    \n",
    "    if not os.path.isdir(checkpoint_dir):\n",
    "        os.makedirs(checkpoint_dir)\n",
    "        \n",
    "    cp_callback = tf.keras.callbacks.ModelCheckpoint(filepath=checkpoint_path,\n",
    "                                                     verbose=verbose,\n",
    "                                                     save_weights_only=True,\n",
    "                                                     save_freq=60)\n",
    "\n",
    "    return cp_callback, checkpoint_dir"
   ]
  },
  {
   "cell_type": "code",
   "execution_count": 11,
   "id": "speaking-chosen",
   "metadata": {},
   "outputs": [],
   "source": [
    "def save_func(opt=None, model=None, history=None, checkpoint_dir=None, nb_epochs=50):\n",
    "    \n",
    "    file_name = opt.lower()+'_'+str(nb_epochs)+'_epochs'\n",
    "    model_name = file_name+'.h5'\n",
    "  \n",
    "    model_path = os.path.join(save_dir, checkpoint_dir, model_name)\n",
    "    model.save(model_path)\n",
    "    print('Saved trained model at %s ' % model_path)\n",
    "\n",
    "    if len(history.keys())>2: # validation\n",
    "        np.savez(os.path.join(result_dir, file_name+'_history'), accuracy=history['accuracy'], loss=history['loss'], val_accuracy=history['val_accuracy'], val_loss=history['val_loss'])\n",
    "    else:\n",
    "        np.savez(os.path.join(result_dir, file_name+'_history'), accuracy=history['accuracy'], loss=history['loss'])\n",
    "\n",
    "    return 0"
   ]
  },
  {
   "cell_type": "code",
   "execution_count": 12,
   "id": "subjective-transfer",
   "metadata": {},
   "outputs": [],
   "source": [
    "def model_params(opt = 'RMSprop(learning_rate=0.0001)', nb_epochs = 50, callback=True, save_model=True):\n",
    "    \n",
    "    model = model_def()\n",
    "    \n",
    "    model.compile(optimizer=eval(opt),\n",
    "                  loss=\"categorical_crossentropy\",\n",
    "                  metrics=[\"accuracy\"])\n",
    "    \n",
    "    if callback:\n",
    "        cp_callback, checkpoint_dir = callback_func(opt, nb_epochs)\n",
    "\n",
    "    start_time = time.time()\n",
    "    history = model.fit(train_generator,\n",
    "                        steps_per_epoch = len(train_generator),\n",
    "                        validation_data = validation_generator,\n",
    "                        validation_steps = len(validation_generator),\n",
    "                        epochs = nb_epochs,\n",
    "                        callbacks=[cp_callback])\n",
    "    training_time = time.time() - start_time\n",
    "    \n",
    "    print(\"\\n--- Training time: %s seconds ---\" % training_time)\n",
    "\n",
    "    val_loss, val_acc = model.evaluate(validation_generator, steps=len(validation_generator))\n",
    "    \n",
    "    if save_model==True:\n",
    "        save_func(opt, model, history.history, checkpoint_dir, nb_epochs)\n",
    "\n",
    "    return val_loss, val_acc, history.history, model"
   ]
  },
  {
   "cell_type": "code",
   "execution_count": 15,
   "id": "iraqi-underground",
   "metadata": {},
   "outputs": [
    {
     "name": "stdout",
     "output_type": "stream",
     "text": [
      "SGD(learning_rate=0.005)\n",
      "Epoch 1/10\n",
      "60/60 [==============================] - 70s 1s/step - loss: 2.4441 - accuracy: 0.1328 - val_loss: 2.3265 - val_accuracy: 0.2500\n",
      "Epoch 2/10\n",
      "60/60 [==============================] - 69s 1s/step - loss: 2.2058 - accuracy: 0.2406 - val_loss: 1.8955 - val_accuracy: 0.4600\n",
      "Epoch 3/10\n",
      "60/60 [==============================] - 64s 1s/step - loss: 2.1069 - accuracy: 0.2636 - val_loss: 1.8585 - val_accuracy: 0.3400\n",
      "Epoch 4/10\n",
      "60/60 [==============================] - 65s 1s/step - loss: 1.9199 - accuracy: 0.3138 - val_loss: 1.5818 - val_accuracy: 0.4800\n",
      "Epoch 5/10\n",
      "60/60 [==============================] - 65s 1s/step - loss: 1.8727 - accuracy: 0.3713 - val_loss: 2.0663 - val_accuracy: 0.2200\n",
      "Epoch 6/10\n",
      "60/60 [==============================] - 64s 1s/step - loss: 1.7863 - accuracy: 0.3713 - val_loss: 1.5398 - val_accuracy: 0.4200\n",
      "Epoch 7/10\n",
      "60/60 [==============================] - 62s 1s/step - loss: 1.6627 - accuracy: 0.4456 - val_loss: 1.5925 - val_accuracy: 0.3600\n",
      "Epoch 8/10\n",
      "60/60 [==============================] - 66s 1s/step - loss: 1.6321 - accuracy: 0.4351 - val_loss: 1.6173 - val_accuracy: 0.4300\n",
      "Epoch 9/10\n",
      "60/60 [==============================] - 66s 1s/step - loss: 1.4768 - accuracy: 0.4822 - val_loss: 1.2725 - val_accuracy: 0.5400\n",
      "Epoch 10/10\n",
      "60/60 [==============================] - 68s 1s/step - loss: 1.4230 - accuracy: 0.5021 - val_loss: 1.4241 - val_accuracy: 0.5800\n",
      "\n",
      "--- Training time: 671.1832146644592 seconds ---\n",
      "7/7 [==============================] - 2s 238ms/step - loss: 1.4094 - accuracy: 0.5600\n",
      "Saved trained model at R:\\projects\\labvit\\azulejos_ml\\trained_models\\sgd(learning_rate=0.005)_10_epochs\\sgd(learning_rate=0.005)_10_epochs.h5 \n",
      "\n",
      "\n"
     ]
    }
   ],
   "source": [
    "#opts = ['RMSprop(learning_rate=0.0001)',\n",
    " #      'RMSprop(learning_rate=0.0005)',\n",
    "  #     'RMSprop(learning_rate=0.001)',\n",
    "   #    'RMSprop(learning_rate=0.005)']\n",
    "\n",
    "#opts = ['SGD(learning_rate=0.001)',\n",
    " #      'SGD(learning_rate=0.005)',\n",
    "  #     'SGD(learning_rate=0.01)',\n",
    "   #    'SGD(learning_rate=0.05)']\n",
    "\n",
    "#opts = ['RMSprop(learning_rate=0.001)',\n",
    " #      'SGD(learning_rate=0.005)']\n",
    "\n",
    "opts = ['SGD(learning_rate=0.005)']\n",
    "\n",
    "nb_epochs = 10\n",
    "\n",
    "val_loss_list = []\n",
    "val_acc_list = []\n",
    "h_list = []\n",
    "model_list = []\n",
    "\n",
    "for opt in opts:\n",
    "    \n",
    "    print(opt)\n",
    "    \n",
    "    val_loss, val_acc, h, model = model_params(opt=opt, nb_epochs=nb_epochs, save_model=True)\n",
    "    \n",
    "    print('\\n')\n",
    "    \n",
    "    val_loss_list.append(val_loss)\n",
    "    val_acc_list.append(val_acc)\n",
    "    h_list.append(h)\n",
    "    model_list.append(model)"
   ]
  },
  {
   "cell_type": "code",
   "execution_count": 16,
   "id": "limited-munich",
   "metadata": {},
   "outputs": [
    {
     "data": {
      "text/html": [
       "<div>\n",
       "<style scoped>\n",
       "    .dataframe tbody tr th:only-of-type {\n",
       "        vertical-align: middle;\n",
       "    }\n",
       "\n",
       "    .dataframe tbody tr th {\n",
       "        vertical-align: top;\n",
       "    }\n",
       "\n",
       "    .dataframe thead th {\n",
       "        text-align: right;\n",
       "    }\n",
       "</style>\n",
       "<table border=\"1\" class=\"dataframe\">\n",
       "  <thead>\n",
       "    <tr style=\"text-align: right;\">\n",
       "      <th></th>\n",
       "      <th>Accuracy</th>\n",
       "    </tr>\n",
       "  </thead>\n",
       "  <tbody>\n",
       "    <tr>\n",
       "      <th>SGD(learning_rate=0.005)</th>\n",
       "      <td>0.5600000023841858</td>\n",
       "    </tr>\n",
       "  </tbody>\n",
       "</table>\n",
       "</div>"
      ],
      "text/plain": [
       "                                    Accuracy\n",
       "SGD(learning_rate=0.005)  0.5600000023841858"
      ]
     },
     "execution_count": 16,
     "metadata": {},
     "output_type": "execute_result"
    }
   ],
   "source": [
    "dflist = []\n",
    "myDict = {}\n",
    "\n",
    "for i in range(len(opts)):\n",
    "    x = np.array(val_acc_list[i])\n",
    "    dflist.append(pd.Series(x))\n",
    "    myDict[i] = opts[i]\n",
    "\n",
    "df = pd.concat(dflist, axis=1)    \n",
    "\n",
    "#df.rename(columns={0:opt[0], 1:opt[1], 2:opt[2], 3:opt[3]}, index={0:'Accuracy'}).T\n",
    "df = df.rename(columns=myDict, index={0:'Accuracy'}).T\n",
    "\n",
    "df.to_excel(os.path.join(result_dir, 'teste_acc.xlsx'))\n",
    "df.head()"
   ]
  },
  {
   "cell_type": "code",
   "execution_count": 17,
   "id": "cloudy-circular",
   "metadata": {},
   "outputs": [
    {
     "data": {
      "text/html": [
       "<div>\n",
       "<style scoped>\n",
       "    .dataframe tbody tr th:only-of-type {\n",
       "        vertical-align: middle;\n",
       "    }\n",
       "\n",
       "    .dataframe tbody tr th {\n",
       "        vertical-align: top;\n",
       "    }\n",
       "\n",
       "    .dataframe thead th {\n",
       "        text-align: right;\n",
       "    }\n",
       "</style>\n",
       "<table border=\"1\" class=\"dataframe\">\n",
       "  <thead>\n",
       "    <tr style=\"text-align: right;\">\n",
       "      <th></th>\n",
       "      <th>Loss</th>\n",
       "    </tr>\n",
       "  </thead>\n",
       "  <tbody>\n",
       "    <tr>\n",
       "      <th>SGD(learning_rate=0.005)</th>\n",
       "      <td>1.40940260887146</td>\n",
       "    </tr>\n",
       "  </tbody>\n",
       "</table>\n",
       "</div>"
      ],
      "text/plain": [
       "                                      Loss\n",
       "SGD(learning_rate=0.005)  1.40940260887146"
      ]
     },
     "execution_count": 17,
     "metadata": {},
     "output_type": "execute_result"
    }
   ],
   "source": [
    "dflist = []\n",
    "myDict = {}\n",
    "\n",
    "for i in range(len(opts)):\n",
    "    x = np.array(val_loss_list[i])\n",
    "    dflist.append(pd.Series(x))\n",
    "    myDict[i] = opts[i]\n",
    "\n",
    "df = pd.concat(dflist, axis=1)\n",
    "\n",
    "df = df.rename(columns=myDict, index={0:'Loss'}).T\n",
    "\n",
    "df.to_excel(os.path.join(result_dir, 'teste_loss.xlsx'))\n",
    "df.head()"
   ]
  },
  {
   "cell_type": "code",
   "execution_count": 82,
   "id": "young-insulation",
   "metadata": {},
   "outputs": [
    {
     "data": {
      "image/png": "[encoded data removed]",
      "text/plain": [
       "<Figure size 432x288 with 1 Axes>"
      ]
     },
     "metadata": {
      "needs_background": "light"
     },
     "output_type": "display_data"
    }
   ],
   "source": [
    "x = np.arange(1, np.size(h_list[0]['accuracy'])+1)\n",
    "\n",
    "for i in range(len(opts)):\n",
    "    plt.plot(x, h_list[i]['loss'])\n",
    "\n",
    "plt.ylabel('Loss')\n",
    "plt.xlabel('Epoch')\n",
    "plt.legend(opts, loc='best')\n",
    "plt.savefig(os.path.join(result_dir, 'teste_loss_plot.png'), dpi=300)\n",
    "plt.show()"
   ]
  },
  {
   "cell_type": "code",
   "execution_count": 83,
   "id": "mature-agriculture",
   "metadata": {},
   "outputs": [
    {
     "data": {
      "image/png": "[encoded data removed]",
      "text/plain": [
       "<Figure size 432x288 with 1 Axes>"
      ]
     },
     "metadata": {
      "needs_background": "light"
     },
     "output_type": "display_data"
    }
   ],
   "source": [
    "x = np.arange(1, np.size(h_list[0]['accuracy'])+1)\n",
    "\n",
    "for i in range(len(opts)):\n",
    "    plt.plot(x, h_list[i]['accuracy'])\n",
    "\n",
    "plt.ylabel('Accuracy')\n",
    "plt.xlabel('Epoch')\n",
    "plt.legend(opts, loc='best')\n",
    "plt.savefig(os.path.join(result_dir, 'teste_acc_plot.png'), dpi=300)\n",
    "plt.show()"
   ]
  },
  {
   "cell_type": "code",
   "execution_count": 87,
   "id": "covered-cemetery",
   "metadata": {},
   "outputs": [
    {
     "name": "stdout",
     "output_type": "stream",
     "text": [
      "['accuracy', 'loss', 'val_accuracy', 'val_loss']\n"
     ]
    }
   ],
   "source": [
    "data = np.load('results/sgd(learning_rate=0.005)_500_epochs_history.npz')\n",
    "\n",
    "x = np.arange(1, np.size(data['accuracy'])+1)\n",
    "\n",
    "print(data.files)"
   ]
  },
  {
   "cell_type": "code",
   "execution_count": 92,
   "id": "mounted-wyoming",
   "metadata": {},
   "outputs": [
    {
     "data": {
      "image/png": "[encoded data removed]",
      "text/plain": [
       "<Figure size 432x288 with 1 Axes>"
      ]
     },
     "metadata": {
      "needs_background": "light"
     },
     "output_type": "display_data"
    }
   ],
   "source": [
    "plt.plot(x, data['loss'])\n",
    "plt.ylabel('Loss')\n",
    "plt.xlabel('Epoch')\n",
    "plt.legend(['Training'], loc='best')\n",
    "plt.show()"
   ]
  },
  {
   "cell_type": "code",
   "execution_count": 93,
   "id": "documentary-russell",
   "metadata": {},
   "outputs": [
    {
     "data": {
      "image/png": "[encoded data removed]",
      "text/plain": [
       "<Figure size 432x288 with 1 Axes>"
      ]
     },
     "metadata": {
      "needs_background": "light"
     },
     "output_type": "display_data"
    }
   ],
   "source": [
    "plt.plot(x, data['accuracy'])\n",
    "plt.ylabel('Loss')\n",
    "plt.xlabel('Epoch')\n",
    "plt.legend(['Training'], loc='best')\n",
    "plt.show()"
   ]
  },
  {
   "cell_type": "code",
   "execution_count": 78,
   "id": "combined-stream",
   "metadata": {},
   "outputs": [],
   "source": [
    "model_sgd500 = load_model('trained_models\\sgd(learning_rate=0.005)_500_epochs\\sgd(learning_rate=0.005)_500_epochs.h5')"
   ]
  },
  {
   "cell_type": "code",
   "execution_count": 79,
   "id": "impressive-interval",
   "metadata": {},
   "outputs": [
    {
     "data": {
      "text/plain": [
       "<tensorflow.python.training.tracking.util.CheckpointLoadStatus at 0x2fd009dfcd0>"
      ]
     },
     "execution_count": 79,
     "metadata": {},
     "output_type": "execute_result"
    }
   ],
   "source": [
    "model_sgd500.load_weights('trained_models\\sgd(learning_rate=0.005)_500_epochs\\cp-0485.ckpt')"
   ]
  },
  {
   "cell_type": "code",
   "execution_count": 80,
   "id": "seven-canyon",
   "metadata": {},
   "outputs": [
    {
     "name": "stdout",
     "output_type": "stream",
     "text": [
      "7/7 - 2s - loss: 0.1421 - accuracy: 0.9700\n"
     ]
    }
   ],
   "source": [
    "loss, acc = model_sgd500.evaluate(validation_generator, verbose=2)"
   ]
  },
  {
   "cell_type": "code",
   "execution_count": 81,
   "id": "labeled-locking",
   "metadata": {},
   "outputs": [
    {
     "name": "stdout",
     "output_type": "stream",
     "text": [
      "Acurracy: 97.00%\n",
      "Loss: 0.14%\n"
     ]
    }
   ],
   "source": [
    "print('Acurracy: %.2f%%' % (acc*100))\n",
    "print('Loss: %.2f%%' % (loss))"
   ]
  },
  {
   "cell_type": "code",
   "execution_count": null,
   "id": "accepting-poison",
   "metadata": {},
   "outputs": [],
   "source": []
  }
 ],
 "metadata": {
  "kernelspec": {
   "display_name": "Python 3",
   "language": "python",
   "name": "python3"
  },
  "language_info": {
   "codemirror_mode": {
    "name": "ipython",
    "version": 3
   },
   "file_extension": ".py",
   "mimetype": "text/x-python",
   "name": "python",
   "nbconvert_exporter": "python",
   "pygments_lexer": "ipython3",
   "version": "3.8.8"
  }
 },
 "nbformat": 4,
 "nbformat_minor": 5
}
