{
 "cells": [
  {
   "cell_type": "code",
   "execution_count": 29,
   "metadata": {},
   "outputs": [],
   "source": [
    "import cv2 as cv\n",
    "import numpy as np\n",
    "import pandas as pd\n",
    "import os\n",
    "\n",
    "import tensorflow as tf\n",
    "from tensorflow import keras\n",
    "from tensorflow.keras.preprocessing import image as im\n",
    "from tensorflow.keras.applications.imagenet_utils import preprocess_input\n",
    "from tensorflow.keras.applications.vgg19 import VGG19\n",
    "from tensorflow.keras.models import Sequential, Model\n",
    "import pickle"
   ]
  },
  {
   "cell_type": "code",
   "execution_count": 11,
   "metadata": {},
   "outputs": [],
   "source": [
    "data_dir = \"base\"\n",
    "batch_size = 16\n",
    "nb_epochs = 50"
   ]
  },
  {
   "cell_type": "code",
   "execution_count": 12,
   "metadata": {},
   "outputs": [
    {
     "name": "stdout",
     "output_type": "stream",
     "text": [
      "Found 956 images belonging to 12 classes.\n",
      "Found 100 images belonging to 12 classes.\n"
     ]
    }
   ],
   "source": [
    "train_datagen = im.ImageDataGenerator(\n",
    "    preprocessing_function=preprocess_input,\n",
    "    shear_range=0.2,\n",
    "    zoom_range=0.2,\n",
    "    horizontal_flip=True,\n",
    "    validation_split=0.1)\n",
    "\n",
    "train_generator = train_datagen.flow_from_directory(\n",
    "    data_dir,\n",
    "    batch_size=batch_size,\n",
    "    class_mode='categorical',\n",
    "    subset='training') # set as training data\n",
    "\n",
    "validation_generator = train_datagen.flow_from_directory(\n",
    "    data_dir,\n",
    "    batch_size=batch_size,\n",
    "    class_mode='categorical',\n",
    "    subset='validation') # set as validation data"
   ]
  },
  {
   "cell_type": "code",
   "execution_count": 36,
   "metadata": {},
   "outputs": [],
   "source": [
    "# arch_1\n",
    "# model = tf.keras.models.Sequential([\n",
    "#   tf.keras.layers.Conv2D(32, (3,3), padding=\"same\", activation=\"relu\"),\n",
    "#   tf.keras.layers.MaxPool2D(),\n",
    "#   tf.keras.layers.Conv2D(32, (3,3), padding=\"same\", activation=\"relu\"),\n",
    "#   tf.keras.layers.MaxPool2D(),\n",
    "#   tf.keras.layers.Conv2D(32, (3,3), padding=\"same\", activation=\"relu\"),\n",
    "#   tf.keras.layers.MaxPool2D(),\n",
    "#   tf.keras.layers.Conv2D(32, (3,3), padding=\"same\", activation=\"relu\"),\n",
    "#   tf.keras.layers.MaxPool2D(),\n",
    "#   tf.keras.layers.Conv2D(16, (3,3), padding=\"same\", activation=\"relu\"),\n",
    "#   tf.keras.layers.MaxPool2D(),\n",
    "#   tf.keras.layers.Conv2D(16, (3,3), padding=\"same\", activation=\"relu\"),\n",
    "#   tf.keras.layers.MaxPool2D(),\n",
    "#   tf.keras.layers.Flatten(),\n",
    "#   tf.keras.layers.Dense(1024, activation=\"relu\"), # 64\n",
    "#   tf.keras.layers.Dense(512, activation=\"relu\"), # 32\n",
    "#   tf.keras.layers.Dense(12, activation=\"softmax\")\n",
    "# ])\n",
    "\n",
    "# arch_2\n",
    "model = tf.keras.models.Sequential([\n",
    "  tf.keras.layers.Conv2D(64, (3,3), padding=\"same\", activation=\"relu\"),\n",
    "  tf.keras.layers.MaxPool2D(),\n",
    "  tf.keras.layers.Conv2D(64, (3,3), padding=\"same\", activation=\"relu\"),\n",
    "  tf.keras.layers.MaxPool2D(),\n",
    "  tf.keras.layers.Conv2D(32, (3,3), padding=\"same\", activation=\"relu\"),\n",
    "  tf.keras.layers.MaxPool2D(),\n",
    "  tf.keras.layers.Conv2D(32, (3,3), padding=\"same\", activation=\"relu\"),\n",
    "  tf.keras.layers.MaxPool2D(),\n",
    "  tf.keras.layers.Conv2D(16, (3,3), padding=\"same\", activation=\"relu\"),\n",
    "  tf.keras.layers.MaxPool2D(),\n",
    "  tf.keras.layers.Conv2D(16, (3,3), padding=\"same\", activation=\"relu\"),\n",
    "  tf.keras.layers.MaxPool2D(),\n",
    "  tf.keras.layers.Conv2D(16, (3,3), padding=\"same\", activation=\"relu\"),\n",
    "  tf.keras.layers.MaxPool2D(),\n",
    "  tf.keras.layers.Flatten(),\n",
    "  tf.keras.layers.Dense(1024, activation=\"relu\"), # 64\n",
    "  tf.keras.layers.Dense(512, activation=\"relu\"), # 32\n",
    "  tf.keras.layers.Dense(128, activation=\"relu\"), # 32\n",
    "  tf.keras.layers.Dense(12, activation=\"softmax\")\n",
    "])"
   ]
  },
  {
   "cell_type": "code",
   "execution_count": 18,
   "metadata": {},
   "outputs": [],
   "source": [
    "# model.summary()"
   ]
  },
  {
   "cell_type": "code",
   "execution_count": 37,
   "metadata": {},
   "outputs": [],
   "source": [
    "opt = tf.keras.optimizers.RMSprop(learning_rate=0.0001)\n",
    "model.compile(opt,\n",
    "              loss=\"categorical_crossentropy\", # Função de custo (medir o erro)\n",
    "              metrics=[\"accuracy\"]) # Métrica além da loss"
   ]
  },
  {
   "cell_type": "code",
   "execution_count": 38,
   "metadata": {},
   "outputs": [
    {
     "name": "stdout",
     "output_type": "stream",
     "text": [
      "Epoch 1/50\n",
      "60/60 [==============================] - 13s 217ms/step - loss: 2.4309 - accuracy: 0.1674\n",
      "Epoch 2/50\n",
      "60/60 [==============================] - 13s 222ms/step - loss: 1.9066 - accuracy: 0.3588\n",
      "Epoch 3/50\n",
      "60/60 [==============================] - 13s 218ms/step - loss: 1.7630 - accuracy: 0.3860\n",
      "Epoch 4/50\n",
      "60/60 [==============================] - 13s 221ms/step - loss: 1.5883 - accuracy: 0.4561\n",
      "Epoch 5/50\n",
      "60/60 [==============================] - 13s 220ms/step - loss: 1.4897 - accuracy: 0.4927\n",
      "Epoch 6/50\n",
      "60/60 [==============================] - 13s 221ms/step - loss: 1.4238 - accuracy: 0.4791\n",
      "Epoch 7/50\n",
      "60/60 [==============================] - 13s 215ms/step - loss: 1.3102 - accuracy: 0.5607\n",
      "Epoch 8/50\n",
      "60/60 [==============================] - 13s 217ms/step - loss: 1.2345 - accuracy: 0.5983\n",
      "Epoch 9/50\n",
      "60/60 [==============================] - 13s 217ms/step - loss: 1.2669 - accuracy: 0.5837\n",
      "Epoch 10/50\n",
      "60/60 [==============================] - 13s 219ms/step - loss: 1.1424 - accuracy: 0.5973\n",
      "Epoch 11/50\n",
      "60/60 [==============================] - 13s 218ms/step - loss: 1.1143 - accuracy: 0.6266\n",
      "Epoch 12/50\n",
      "60/60 [==============================] - 13s 222ms/step - loss: 1.0479 - accuracy: 0.6391\n",
      "Epoch 13/50\n",
      "60/60 [==============================] - 13s 222ms/step - loss: 1.0173 - accuracy: 0.6799\n",
      "Epoch 14/50\n",
      "60/60 [==============================] - 13s 219ms/step - loss: 0.9705 - accuracy: 0.6736\n",
      "Epoch 15/50\n",
      "60/60 [==============================] - 13s 218ms/step - loss: 0.9765 - accuracy: 0.6810\n",
      "Epoch 16/50\n",
      "60/60 [==============================] - 13s 222ms/step - loss: 0.8766 - accuracy: 0.7071\n",
      "Epoch 17/50\n",
      "60/60 [==============================] - 13s 220ms/step - loss: 0.8810 - accuracy: 0.6914\n",
      "Epoch 18/50\n",
      "60/60 [==============================] - 13s 217ms/step - loss: 0.7647 - accuracy: 0.7605\n",
      "Epoch 19/50\n",
      "60/60 [==============================] - 13s 222ms/step - loss: 0.7931 - accuracy: 0.7228\n",
      "Epoch 20/50\n",
      "60/60 [==============================] - 13s 219ms/step - loss: 0.7642 - accuracy: 0.7343\n",
      "Epoch 21/50\n",
      "60/60 [==============================] - 13s 220ms/step - loss: 0.7173 - accuracy: 0.7521\n",
      "Epoch 22/50\n",
      "60/60 [==============================] - 13s 218ms/step - loss: 0.6787 - accuracy: 0.7803\n",
      "Epoch 23/50\n",
      "60/60 [==============================] - 13s 215ms/step - loss: 0.6519 - accuracy: 0.7741\n",
      "Epoch 24/50\n",
      "60/60 [==============================] - 13s 218ms/step - loss: 0.6659 - accuracy: 0.7782\n",
      "Epoch 25/50\n",
      "60/60 [==============================] - 13s 216ms/step - loss: 0.6156 - accuracy: 0.7856\n",
      "Epoch 26/50\n",
      "60/60 [==============================] - 13s 217ms/step - loss: 0.5964 - accuracy: 0.7992\n",
      "Epoch 27/50\n",
      "60/60 [==============================] - 13s 216ms/step - loss: 0.5326 - accuracy: 0.8211\n",
      "Epoch 28/50\n",
      "60/60 [==============================] - 13s 220ms/step - loss: 0.5282 - accuracy: 0.8044\n",
      "Epoch 29/50\n",
      "60/60 [==============================] - 13s 216ms/step - loss: 0.5404 - accuracy: 0.8117\n",
      "Epoch 30/50\n",
      "60/60 [==============================] - 13s 216ms/step - loss: 0.5167 - accuracy: 0.8190\n",
      "Epoch 31/50\n",
      "60/60 [==============================] - 13s 216ms/step - loss: 0.4620 - accuracy: 0.8410\n",
      "Epoch 32/50\n",
      "60/60 [==============================] - 13s 217ms/step - loss: 0.5238 - accuracy: 0.8149\n",
      "Epoch 33/50\n",
      "60/60 [==============================] - 13s 217ms/step - loss: 0.4260 - accuracy: 0.8525\n",
      "Epoch 34/50\n",
      "60/60 [==============================] - 13s 218ms/step - loss: 0.4522 - accuracy: 0.8410\n",
      "Epoch 35/50\n",
      "60/60 [==============================] - 13s 219ms/step - loss: 0.4246 - accuracy: 0.8410\n",
      "Epoch 36/50\n",
      "60/60 [==============================] - 13s 221ms/step - loss: 0.3869 - accuracy: 0.8588\n",
      "Epoch 37/50\n",
      "60/60 [==============================] - 13s 219ms/step - loss: 0.4089 - accuracy: 0.8619\n",
      "Epoch 38/50\n",
      "60/60 [==============================] - 13s 222ms/step - loss: 0.4026 - accuracy: 0.8692\n",
      "Epoch 39/50\n",
      "60/60 [==============================] - 13s 220ms/step - loss: 0.3164 - accuracy: 0.8954\n",
      "Epoch 40/50\n",
      "60/60 [==============================] - 13s 220ms/step - loss: 0.4115 - accuracy: 0.8483\n",
      "Epoch 41/50\n",
      "60/60 [==============================] - 13s 220ms/step - loss: 0.3430 - accuracy: 0.8713\n",
      "Epoch 42/50\n",
      "60/60 [==============================] - 13s 222ms/step - loss: 0.3226 - accuracy: 0.8944\n",
      "Epoch 43/50\n",
      "60/60 [==============================] - 13s 219ms/step - loss: 0.3247 - accuracy: 0.8870\n",
      "Epoch 44/50\n",
      "60/60 [==============================] - 13s 220ms/step - loss: 0.3208 - accuracy: 0.8891\n",
      "Epoch 45/50\n",
      "60/60 [==============================] - 13s 221ms/step - loss: 0.3008 - accuracy: 0.8964\n",
      "Epoch 46/50\n",
      "60/60 [==============================] - 13s 220ms/step - loss: 0.2742 - accuracy: 0.9048\n",
      "Epoch 47/50\n",
      "60/60 [==============================] - 13s 219ms/step - loss: 0.2467 - accuracy: 0.9257\n",
      "Epoch 48/50\n",
      "60/60 [==============================] - 13s 223ms/step - loss: 0.3026 - accuracy: 0.9059\n",
      "Epoch 49/50\n",
      "60/60 [==============================] - 13s 222ms/step - loss: 0.2563 - accuracy: 0.9163\n",
      "Epoch 50/50\n",
      "60/60 [==============================] - 13s 224ms/step - loss: 0.2715 - accuracy: 0.9048\n"
     ]
    }
   ],
   "source": [
    "history = model.fit(train_generator, \n",
    "            steps_per_epoch = len(train_generator),\n",
    "#             validation_data = validation_generator, \n",
    "#             validation_steps = len(validation_generator),\n",
    "            epochs = nb_epochs)"
   ]
  },
  {
   "cell_type": "code",
   "execution_count": 39,
   "metadata": {},
   "outputs": [
    {
     "name": "stdout",
     "output_type": "stream",
     "text": [
      "7/7 [==============================] - 1s 211ms/step - loss: 0.8908 - accuracy: 0.8600\n"
     ]
    },
    {
     "data": {
      "text/plain": [
       "[0.8908094763755798, 0.8600000143051147]"
      ]
     },
     "execution_count": 39,
     "metadata": {},
     "output_type": "execute_result"
    }
   ],
   "source": [
    "model.evaluate(validation_generator, steps=len(validation_generator))"
   ]
  },
  {
   "cell_type": "code",
   "execution_count": 40,
   "metadata": {},
   "outputs": [
    {
     "name": "stdout",
     "output_type": "stream",
     "text": [
      "Saved trained model at /home/trained_models/azulejos_arch2_rmsprop_lr_1e-4_50_epochs.h5 \n"
     ]
    }
   ],
   "source": [
    "save_dir = os.path.join(os.getcwd(), 'trained_models')\n",
    "model_name = 'azulejos_arch2_rmsprop_lr_1e-4_50_epochs.h5'\n",
    "\n",
    "if not os.path.isdir(save_dir):\n",
    "    os.makedirs(save_dir)\n",
    "model_path = os.path.join(save_dir, model_name)\n",
    "model.save(model_path)\n",
    "print('Saved trained model at %s ' % model_path)"
   ]
  },
  {
   "cell_type": "code",
   "execution_count": 41,
   "metadata": {},
   "outputs": [],
   "source": [
    "pickle.dump(history.history, open( os.path.join(save_dir, model_name[:-3]) + \"_hist.p\", \"wb\" ))"
   ]
  }
 ],
 "metadata": {
  "kernelspec": {
   "display_name": "Python 3",
   "language": "python",
   "name": "python3"
  },
  "language_info": {
   "codemirror_mode": {
    "name": "ipython",
    "version": 3
   },
   "file_extension": ".py",
   "mimetype": "text/x-python",
   "name": "python",
   "nbconvert_exporter": "python",
   "pygments_lexer": "ipython3",
   "version": "3.6.9"
  }
 },
 "nbformat": 4,
 "nbformat_minor": 5
}
