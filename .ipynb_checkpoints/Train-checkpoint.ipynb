{
 "cells": [
  {
   "cell_type": "code",
   "execution_count": 27,
   "id": "executed-growing",
   "metadata": {},
   "outputs": [],
   "source": [
    "import cv2 as cv\n",
    "import numpy as np\n",
    "import pandas as pd\n",
    "import os\n",
    "\n",
    "import tensorflow as tf\n",
    "from tensorflow import keras\n",
    "from tensorflow.keras.preprocessing import image as im\n",
    "from tensorflow.keras.applications.imagenet_utils import preprocess_input\n",
    "from tensorflow.keras.applications.vgg19 import VGG19\n",
    "from tensorflow.keras.models import Sequential, Model\n"
   ]
  },
  {
   "cell_type": "code",
   "execution_count": 18,
   "id": "thermal-folks",
   "metadata": {},
   "outputs": [],
   "source": [
    "data_dir = \"base\"\n",
    "batch_size = 32\n",
    "nb_epochs = 3"
   ]
  },
  {
   "cell_type": "code",
   "execution_count": 8,
   "id": "infrared-university",
   "metadata": {},
   "outputs": [
    {
     "name": "stdout",
     "output_type": "stream",
     "text": [
      "Found 956 images belonging to 12 classes.\n",
      "Found 100 images belonging to 12 classes.\n"
     ]
    }
   ],
   "source": [
    "train_datagen = im.ImageDataGenerator(\n",
    "    preprocessing_function=preprocess_input,\n",
    "    shear_range=0.2,\n",
    "    zoom_range=0.2,\n",
    "    horizontal_flip=True,\n",
    "    validation_split=0.1)\n",
    "\n",
    "train_generator = train_datagen.flow_from_directory(\n",
    "    data_dir,\n",
    "    batch_size=batch_size,\n",
    "    class_mode='categorical',\n",
    "    subset='training') # set as training data\n",
    "\n",
    "validation_generator = train_datagen.flow_from_directory(\n",
    "    data_dir,\n",
    "    batch_size=batch_size,\n",
    "    class_mode='categorical',\n",
    "    subset='validation') # set as validation data"
   ]
  },
  {
   "cell_type": "code",
   "execution_count": 9,
   "id": "close-commons",
   "metadata": {},
   "outputs": [],
   "source": [
    "# model = tf.keras.models.Sequential([\n",
    "# #   tf.keras.layers.Input((299,299,3)),\n",
    "#   tf.keras.layers.Conv2D(8, (3,3), padding=\"same\", activation=\"relu\"),\n",
    "#   tf.keras.layers.MaxPool2D(),\n",
    "#   tf.keras.layers.Conv2D(8, (3,3), padding=\"same\", activation=\"relu\"),\n",
    "#   tf.keras.layers.MaxPool2D(),\n",
    "#   tf.keras.layers.Flatten(),\n",
    "#   tf.keras.layers.Dense(32, activation=\"relu\"),\n",
    "#   tf.keras.layers.Dense(12, activation=\"softmax\")\n",
    "# ])"
   ]
  },
  {
   "cell_type": "code",
   "execution_count": 28,
   "id": "beneficial-particular",
   "metadata": {},
   "outputs": [],
   "source": [
    "base_model = VGG19(input_tensor=tf.keras.layers.Input(shape=(299,299,3)), include_top=False)\n",
    "# add a global spatial average pooling layer\n",
    "x = base_model.output\n",
    "image_out = tf.keras.layers.GlobalAveragePooling2D()(x)\n",
    "concat = image_out\n",
    "inputs = [base_model.input]\n",
    "\n",
    "# let's add a fully-connected layer\n",
    "x = tf.keras.layers.Dense(1024, activation='relu')(concat)\n",
    "# and a logistic layer -- let's say we have num_classes classes\n",
    "predictions = tf.keras.layers.Dense(12, activation='softmax')(x)\n",
    "\n",
    "model = Model(inputs=inputs, outputs=predictions, name=\"azulejos_ml\")"
   ]
  },
  {
   "cell_type": "code",
   "execution_count": 10,
   "id": "gentle-argentina",
   "metadata": {},
   "outputs": [],
   "source": [
    "# model.summary()"
   ]
  },
  {
   "cell_type": "code",
   "execution_count": 29,
   "id": "selected-person",
   "metadata": {},
   "outputs": [],
   "source": [
    "opt = tf.keras.optimizers.SGD(learning_rate=0.8, momentum=0.1)\n",
    "model.compile(opt, # Stocastic Gradient Descent - Método do Gradiente\n",
    "              loss=\"categorical_crossentropy\", # Função de custo (medir o erro)\n",
    "              metrics=[\"accuracy\"]) # Métrica além da loss"
   ]
  },
  {
   "cell_type": "code",
   "execution_count": 31,
   "id": "large-january",
   "metadata": {},
   "outputs": [],
   "source": [
    "# history = model.fit(train_generator, \n",
    "#             steps_per_epoch = len(train_generator),\n",
    "#             validation_data = validation_generator, \n",
    "#             validation_steps = len(validation_generator),\n",
    "#             epochs = nb_epochs)"
   ]
  },
  {
   "cell_type": "code",
   "execution_count": 21,
   "id": "dimensional-beijing",
   "metadata": {},
   "outputs": [
    {
     "name": "stdout",
     "output_type": "stream",
     "text": [
      "7/7 [==============================] - 1s 204ms/step - loss: 2.4537 - accuracy: 0.1200\n"
     ]
    },
    {
     "data": {
      "text/plain": [
       "[2.4537160396575928, 0.11999999731779099]"
      ]
     },
     "execution_count": 21,
     "metadata": {},
     "output_type": "execute_result"
    }
   ],
   "source": [
    "# model.evaluate(validation_generator)"
   ]
  },
  {
   "cell_type": "code",
   "execution_count": null,
   "id": "sharing-medicaid",
   "metadata": {},
   "outputs": [],
   "source": []
  },
  {
   "cell_type": "code",
   "execution_count": null,
   "id": "developed-coffee",
   "metadata": {},
   "outputs": [],
   "source": []
  }
 ],
 "metadata": {
  "kernelspec": {
   "display_name": "Python 3",
   "language": "python",
   "name": "python3"
  },
  "language_info": {
   "codemirror_mode": {
    "name": "ipython",
    "version": 3
   },
   "file_extension": ".py",
   "mimetype": "text/x-python",
   "name": "python",
   "nbconvert_exporter": "python",
   "pygments_lexer": "ipython3",
   "version": "3.8.5"
  }
 },
 "nbformat": 4,
 "nbformat_minor": 5
}
