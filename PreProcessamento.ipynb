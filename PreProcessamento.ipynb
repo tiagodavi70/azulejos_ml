{
 "cells": [
  {
   "cell_type": "code",
   "execution_count": 3,
   "id": "identified-forge",
   "metadata": {},
   "outputs": [],
   "source": [
    "import cv2 as cv\n",
    "import numpy as np\n",
    "import pandas as pd\n",
    "import os"
   ]
  },
  {
   "cell_type": "code",
   "execution_count": 6,
   "id": "compliant-batch",
   "metadata": {},
   "outputs": [],
   "source": [
    "def resizeAndPad(img, size, padColor=0):\n",
    "    h, w = img.shape[:2]\n",
    "    sh, sw = size\n",
    "\n",
    "    # interpolation method\n",
    "    if h > sh or w > sw:  # shrinking image\n",
    "        interp = cv.INTER_AREA\n",
    "\n",
    "    else:  # stretching image\n",
    "        interp = cv.INTER_CUBIC\n",
    "\n",
    "    # aspect ratio of image\n",
    "    aspect = float(w) / h\n",
    "    saspect = float(sw) / sh\n",
    "\n",
    "    if (saspect > aspect) or aspect <= 1:  # new horizontal image\n",
    "        new_h = sh\n",
    "        new_w = np.round(new_h * aspect).astype(int)\n",
    "        pad_horz = float(sw - new_w) / 2\n",
    "        pad_left, pad_right = np.floor(pad_horz).astype(int), np.ceil(pad_horz).astype(int)\n",
    "        pad_top, pad_bot = 0, 0\n",
    "\n",
    "    elif (saspect < aspect) or aspect >= 1:  # new vertical image\n",
    "        new_w = sw\n",
    "        new_h = np.round(float(new_w) / aspect).astype(int)\n",
    "        pad_vert = float(sh - new_h) / 2\n",
    "        pad_top, pad_bot = np.floor(pad_vert).astype(int), np.ceil(pad_vert).astype(int)\n",
    "        pad_left, pad_right = 0, 0\n",
    "\n",
    "    # set pad color\n",
    "    if len(img.shape) == 3 and not isinstance(padColor,\n",
    "                                              (list, tuple, np.ndarray)):  # color image but only one color provided\n",
    "        padColor = [padColor] * 3\n",
    "\n",
    "    # scale and pad\n",
    "    #print(saspect, aspect)\n",
    "    scaled_img = cv.resize(img, (new_w, new_h), interpolation=interp)\n",
    "    scaled_img = cv.copyMakeBorder(scaled_img, pad_top, pad_bot, pad_left, pad_right, borderType=cv.BORDER_CONSTANT,\n",
    "                                    value=padColor)\n",
    "\n",
    "    return scaled_img"
   ]
  },
  {
   "cell_type": "code",
   "execution_count": 11,
   "id": "aging-radio",
   "metadata": {},
   "outputs": [],
   "source": [
    "pastas = os.listdir(\"base_raw\")\n",
    "\n",
    "for pasta in pastas:\n",
    "    if not os.path.exists(\"base/\" + pasta):\n",
    "        os.makedirs(\"base/\" + pasta)\n",
    "    arquivos = os.listdir(\"base_raw/\" + pasta)\n",
    "    for arq in arquivos:\n",
    "        im = cv.imread(\"base_raw/\" + pasta + \"/\" + arq,1)\n",
    "        im = resizeAndPad(im, (299, 299))\n",
    "        cv.imwrite(\"base/\" + pasta + \"/\" + arq, im)"
   ]
  },
  {
   "cell_type": "code",
   "execution_count": null,
   "id": "acting-malta",
   "metadata": {},
   "outputs": [],
   "source": []
  }
 ],
 "metadata": {
  "kernelspec": {
   "display_name": "Python 3",
   "language": "python",
   "name": "python3"
  },
  "language_info": {
   "codemirror_mode": {
    "name": "ipython",
    "version": 3
   },
   "file_extension": ".py",
   "mimetype": "text/x-python",
   "name": "python",
   "nbconvert_exporter": "python",
   "pygments_lexer": "ipython3",
   "version": "3.8.5"
  }
 },
 "nbformat": 4,
 "nbformat_minor": 5
}
