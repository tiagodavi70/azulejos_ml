{
 "cells": [
  {
   "cell_type": "code",
   "execution_count": null,
   "id": "2fa3195b-3d6c-4b7e-94ab-e7a0e67d368e",
   "metadata": {},
   "outputs": [],
   "source": [
    "import numpy as np\n",
    "from sklearn.model_selection import train_test_split\n",
    "import matplotlib.pyplot as plt\n",
    "import imgaug.augmenters as iaa\n",
    "import tensorflow as tf\n",
    "from tensorflow.keras import backend as K\n",
    "from tensorflow.keras.optimizers import SGD, Adam, Adagrad, RMSprop\n",
    "from tensorflow.keras.models import load_model\n",
    "import os\n",
    "import time\n",
    "from glob import glob\n",
    "import cv2"
   ]
  },
  {
   "cell_type": "code",
   "execution_count": null,
   "id": "9deee444-e680-4455-ab4e-be867b9ea155",
   "metadata": {},
   "outputs": [],
   "source": [
    "def model_def(view_model=False):\n",
    "    \n",
    "    K.clear_session()\n",
    "    \n",
    "    input_shape = (256, 256, 3)\n",
    "    \n",
    "    model = tf.keras.models.Sequential([\n",
    "        tf.keras.layers.Conv2D(64, (3,3), padding=\"same\", activation=\"relu\", input_shape=input_shape),\n",
    "        tf.keras.layers.MaxPool2D(),\n",
    "        tf.keras.layers.Conv2D(64, (3,3), padding=\"same\", activation=\"relu\"),\n",
    "        tf.keras.layers.MaxPool2D(),\n",
    "        tf.keras.layers.Conv2D(32, (3,3), padding=\"same\", activation=\"relu\"),\n",
    "        tf.keras.layers.MaxPool2D(),\n",
    "        tf.keras.layers.Conv2D(32, (3,3), padding=\"same\", activation=\"relu\"),\n",
    "        tf.keras.layers.MaxPool2D(),\n",
    "        tf.keras.layers.Conv2D(16, (3,3), padding=\"same\", activation=\"relu\"),\n",
    "        tf.keras.layers.MaxPool2D(),\n",
    "        tf.keras.layers.Conv2D(16, (3,3), padding=\"same\", activation=\"relu\"),\n",
    "        tf.keras.layers.MaxPool2D(),\n",
    "        tf.keras.layers.Conv2D(16, (3,3), padding=\"same\", activation=\"relu\"),\n",
    "        tf.keras.layers.MaxPool2D(),\n",
    "        tf.keras.layers.Flatten(),\n",
    "        tf.keras.layers.Dense(1024, activation=\"relu\"),\n",
    "        tf.keras.layers.Dense(512, activation=\"relu\"),\n",
    "        tf.keras.layers.Dense(128, activation=\"relu\"),\n",
    "        tf.keras.layers.Dense(12, activation=\"softmax\")])\n",
    "    \n",
    "    if view_model:\n",
    "        model.summary()\n",
    "    \n",
    "    return model"
   ]
  },
  {
   "cell_type": "code",
   "execution_count": null,
   "id": "47cbaf23-f8ee-4d77-a5ce-f0b1204f67b6",
   "metadata": {},
   "outputs": [],
   "source": [
    "def center_stdNorm(x):\n",
    "    \n",
    "    x_norm = np.zeros(x.shape)\n",
    "    for i in range(len(x)):\n",
    "        x_norm[i] = (x[i]-np.mean(x[i], keepdims=True))/(np.std(x[i], keepdims=True)+1e-6)\n",
    "    \n",
    "    return x_norm"
   ]
  },
  {
   "cell_type": "code",
   "execution_count": null,
   "id": "2a504536-91d4-4294-b93f-55468f7d18ad",
   "metadata": {},
   "outputs": [],
   "source": [
    "img_dir = 'base2'\n",
    "dir_prefix = '*/'\n",
    "file_prefix = '*.jpg'\n",
    "\n",
    "dir_list =  glob(os.path.join(img_dir, dir_prefix))\n",
    "img_list = []\n",
    "labels_list = []\n",
    "\n",
    "for i in range(np.size(dir_list)):\n",
    "    for filename in glob(os.path.join(dir_list[i], file_prefix)):\n",
    "        img = cv2.cvtColor(cv2.imread(filename), cv2.COLOR_BGR2RGB)\n",
    "        img_list.append(img)\n",
    "        labels_list.append(i)\n",
    "        \n",
    "x = np.array(img_list, dtype=np.uint8)\n",
    "y = np.array(labels_list, dtype=np.uint8)"
   ]
  },
  {
   "cell_type": "code",
   "execution_count": null,
   "id": "5ad46197-dae7-47bf-ac6e-63d4d06133a3",
   "metadata": {},
   "outputs": [],
   "source": [
    "test_size=0.1\n",
    "x_train, x_test, y_train, y_test = train_test_split(x, y,\n",
    "                                                    test_size=test_size,\n",
    "                                                    random_state=42,\n",
    "                                                    stratify=y)"
   ]
  },
  {
   "cell_type": "code",
   "execution_count": null,
   "id": "3f6264d2-be14-423b-a143-de180627a5eb",
   "metadata": {},
   "outputs": [],
   "source": [
    "seq = iaa.Sequential([\n",
    "    iaa.Fliplr(1.0),\n",
    "    #iaa.Flipud(1.0),\n",
    "    iaa.Affine(translate_px={'x': (-30,30), 'y': (-30,30)}),\n",
    "    iaa.Affine(scale={\"x\": (0.7, 1.3), \"y\": (0.7, 1.3)})\n",
    "])\n",
    "\n",
    "x_train_aug = seq(images=x_train)\n",
    "\n",
    "x_train = np.concatenate((x_train, x_train_aug))\n",
    "y_train = np.concatenate((y_train, y_train))\n",
    "\n",
    "x_train_norm = center_stdNorm(x_train)\n",
    "x_test_norm = center_stdNorm(x_test)\n",
    "\n",
    "y_train = tf.keras.utils.to_categorical(y_train, 12)\n",
    "y_test = tf.keras.utils.to_categorical(y_test, 12)"
   ]
  },
  {
   "cell_type": "code",
   "execution_count": null,
   "id": "3d2d71a8-d3fa-48bf-ac1d-318561f16013",
   "metadata": {},
   "outputs": [],
   "source": [
    "K.clear_session()\n",
    "\n",
    "model = model_def()\n",
    "\n",
    "test_name = 'rmsprop_0.001_100_2'\n",
    "model_path = os.path.join('trained_models/', test_name)\n",
    "\n",
    "model.compile(optimizer=RMSprop(learning_rate=0.001, momentum=0.0),\n",
    "              loss=\"categorical_crossentropy\",\n",
    "              metrics=[\"accuracy\"])\n",
    "\n",
    "cp_callback = callback_func(model_path)\n",
    "\n",
    "start_time = time.time()\n",
    "history = model.fit(x = x_train_norm,\n",
    "                    y = y_train,\n",
    "                    batch_size=16,\n",
    "                    epochs=100,\n",
    "                    validation_data=(x_test_norm, y_test)\n",
    "                    )\n",
    "training_time = time.time() - start_time\n",
    "     \n",
    "print(\"\\n--- Training time: %s seconds ---\" % training_time)\n",
    "\n",
    "val_loss, val_acc = model.evaluate(x=x_test_norm,\n",
    "                                   y=y_test)\n",
    "\n",
    "# Salvar o modelo\n",
    "model.save(os.path.join(model_path, test_name+'.h5'))\n",
    "print('Saved trained model at %s ' % model_path)\n",
    "\n",
    "h = history.history\n",
    "np.savez(os.path.join(model_path, test_name+'_history'), accuracy=h['accuracy'], loss=h['loss'], val_accuracy=h['val_accuracy'], val_loss=h['val_loss'])"
   ]
  },
  {
   "cell_type": "code",
   "execution_count": null,
   "id": "58fe0c26-cf30-4e94-92d7-1bbce21ffd84",
   "metadata": {},
   "outputs": [],
   "source": [
    "model.evaluate(x_test, steps=len(x_test))"
   ]
  }
 ],
 "metadata": {
  "kernelspec": {
   "display_name": "Python 3",
   "language": "python",
   "name": "python3"
  },
  "language_info": {
   "codemirror_mode": {
    "name": "ipython",
    "version": 3
   },
   "file_extension": ".py",
   "mimetype": "text/x-python",
   "name": "python",
   "nbconvert_exporter": "python",
   "pygments_lexer": "ipython3",
   "version": "3.8.10"
  }
 },
 "nbformat": 4,
 "nbformat_minor": 5
}
